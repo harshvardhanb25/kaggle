{
 "cells": [
  {
   "cell_type": "markdown",
   "id": "5f02d1a6",
   "metadata": {
    "papermill": {
     "duration": 0.009864,
     "end_time": "2023-10-18T21:23:24.367351",
     "exception": false,
     "start_time": "2023-10-18T21:23:24.357487",
     "status": "completed"
    },
    "tags": []
   },
   "source": [
    "# Titanic Kaggle Competition"
   ]
  },
  {
   "cell_type": "code",
   "execution_count": 1,
   "id": "7edf1fa2",
   "metadata": {
    "execution": {
     "iopub.execute_input": "2023-10-18T21:23:24.389033Z",
     "iopub.status.busy": "2023-10-18T21:23:24.388370Z",
     "iopub.status.idle": "2023-10-18T21:23:27.506675Z",
     "shell.execute_reply": "2023-10-18T21:23:27.505345Z"
    },
    "papermill": {
     "duration": 3.132306,
     "end_time": "2023-10-18T21:23:27.509326",
     "exception": false,
     "start_time": "2023-10-18T21:23:24.377020",
     "status": "completed"
    },
    "tags": []
   },
   "outputs": [],
   "source": [
    "import pandas as pd\n",
    "import numpy as np\n",
    "import matplotlib.pyplot as plt\n",
    "import seaborn as sns\n",
    "from sklearn.linear_model import LinearRegression, LogisticRegression\n",
    "from sklearn.ensemble import RandomForestRegressor\n",
    "from sklearn.svm import SVC, LinearSVC\n",
    "from sklearn.neighbors import KNeighborsClassifier\n",
    "from sklearn.naive_bayes import GaussianNB\n",
    "from sklearn.model_selection import train_test_split, GridSearchCV\n",
    "from sklearn.metrics import mean_squared_error, confusion_matrix, classification_report\n",
    "from sklearn.preprocessing import StandardScaler\n",
    "np.random.seed(42)"
   ]
  },
  {
   "cell_type": "markdown",
   "id": "b747b65d",
   "metadata": {
    "papermill": {
     "duration": 0.008978,
     "end_time": "2023-10-18T21:23:27.527512",
     "exception": false,
     "start_time": "2023-10-18T21:23:27.518534",
     "status": "completed"
    },
    "tags": []
   },
   "source": [
    "## Analysis of the Titanic Training Data and Preprocessing"
   ]
  },
  {
   "cell_type": "code",
   "execution_count": 2,
   "id": "4a6f2aa0",
   "metadata": {
    "execution": {
     "iopub.execute_input": "2023-10-18T21:23:27.547017Z",
     "iopub.status.busy": "2023-10-18T21:23:27.546496Z",
     "iopub.status.idle": "2023-10-18T21:23:27.612596Z",
     "shell.execute_reply": "2023-10-18T21:23:27.611083Z"
    },
    "papermill": {
     "duration": 0.078506,
     "end_time": "2023-10-18T21:23:27.614824",
     "exception": false,
     "start_time": "2023-10-18T21:23:27.536318",
     "status": "completed"
    },
    "tags": []
   },
   "outputs": [
    {
     "data": {
      "text/html": [
       "<div>\n",
       "<style scoped>\n",
       "    .dataframe tbody tr th:only-of-type {\n",
       "        vertical-align: middle;\n",
       "    }\n",
       "\n",
       "    .dataframe tbody tr th {\n",
       "        vertical-align: top;\n",
       "    }\n",
       "\n",
       "    .dataframe thead th {\n",
       "        text-align: right;\n",
       "    }\n",
       "</style>\n",
       "<table border=\"1\" class=\"dataframe\">\n",
       "  <thead>\n",
       "    <tr style=\"text-align: right;\">\n",
       "      <th></th>\n",
       "      <th>Survived</th>\n",
       "      <th>Pclass</th>\n",
       "      <th>Name</th>\n",
       "      <th>Sex</th>\n",
       "      <th>Age</th>\n",
       "      <th>SibSp</th>\n",
       "      <th>Parch</th>\n",
       "      <th>Ticket</th>\n",
       "      <th>Fare</th>\n",
       "      <th>Cabin</th>\n",
       "      <th>Embarked</th>\n",
       "    </tr>\n",
       "    <tr>\n",
       "      <th>PassengerId</th>\n",
       "      <th></th>\n",
       "      <th></th>\n",
       "      <th></th>\n",
       "      <th></th>\n",
       "      <th></th>\n",
       "      <th></th>\n",
       "      <th></th>\n",
       "      <th></th>\n",
       "      <th></th>\n",
       "      <th></th>\n",
       "      <th></th>\n",
       "    </tr>\n",
       "  </thead>\n",
       "  <tbody>\n",
       "    <tr>\n",
       "      <th>1</th>\n",
       "      <td>0</td>\n",
       "      <td>3</td>\n",
       "      <td>Braund, Mr. Owen Harris</td>\n",
       "      <td>male</td>\n",
       "      <td>22.0</td>\n",
       "      <td>1</td>\n",
       "      <td>0</td>\n",
       "      <td>A/5 21171</td>\n",
       "      <td>7.2500</td>\n",
       "      <td>NaN</td>\n",
       "      <td>S</td>\n",
       "    </tr>\n",
       "    <tr>\n",
       "      <th>2</th>\n",
       "      <td>1</td>\n",
       "      <td>1</td>\n",
       "      <td>Cumings, Mrs. John Bradley (Florence Briggs Th...</td>\n",
       "      <td>female</td>\n",
       "      <td>38.0</td>\n",
       "      <td>1</td>\n",
       "      <td>0</td>\n",
       "      <td>PC 17599</td>\n",
       "      <td>71.2833</td>\n",
       "      <td>C85</td>\n",
       "      <td>C</td>\n",
       "    </tr>\n",
       "    <tr>\n",
       "      <th>3</th>\n",
       "      <td>1</td>\n",
       "      <td>3</td>\n",
       "      <td>Heikkinen, Miss. Laina</td>\n",
       "      <td>female</td>\n",
       "      <td>26.0</td>\n",
       "      <td>0</td>\n",
       "      <td>0</td>\n",
       "      <td>STON/O2. 3101282</td>\n",
       "      <td>7.9250</td>\n",
       "      <td>NaN</td>\n",
       "      <td>S</td>\n",
       "    </tr>\n",
       "    <tr>\n",
       "      <th>4</th>\n",
       "      <td>1</td>\n",
       "      <td>1</td>\n",
       "      <td>Futrelle, Mrs. Jacques Heath (Lily May Peel)</td>\n",
       "      <td>female</td>\n",
       "      <td>35.0</td>\n",
       "      <td>1</td>\n",
       "      <td>0</td>\n",
       "      <td>113803</td>\n",
       "      <td>53.1000</td>\n",
       "      <td>C123</td>\n",
       "      <td>S</td>\n",
       "    </tr>\n",
       "    <tr>\n",
       "      <th>5</th>\n",
       "      <td>0</td>\n",
       "      <td>3</td>\n",
       "      <td>Allen, Mr. William Henry</td>\n",
       "      <td>male</td>\n",
       "      <td>35.0</td>\n",
       "      <td>0</td>\n",
       "      <td>0</td>\n",
       "      <td>373450</td>\n",
       "      <td>8.0500</td>\n",
       "      <td>NaN</td>\n",
       "      <td>S</td>\n",
       "    </tr>\n",
       "    <tr>\n",
       "      <th>...</th>\n",
       "      <td>...</td>\n",
       "      <td>...</td>\n",
       "      <td>...</td>\n",
       "      <td>...</td>\n",
       "      <td>...</td>\n",
       "      <td>...</td>\n",
       "      <td>...</td>\n",
       "      <td>...</td>\n",
       "      <td>...</td>\n",
       "      <td>...</td>\n",
       "      <td>...</td>\n",
       "    </tr>\n",
       "    <tr>\n",
       "      <th>887</th>\n",
       "      <td>0</td>\n",
       "      <td>2</td>\n",
       "      <td>Montvila, Rev. Juozas</td>\n",
       "      <td>male</td>\n",
       "      <td>27.0</td>\n",
       "      <td>0</td>\n",
       "      <td>0</td>\n",
       "      <td>211536</td>\n",
       "      <td>13.0000</td>\n",
       "      <td>NaN</td>\n",
       "      <td>S</td>\n",
       "    </tr>\n",
       "    <tr>\n",
       "      <th>888</th>\n",
       "      <td>1</td>\n",
       "      <td>1</td>\n",
       "      <td>Graham, Miss. Margaret Edith</td>\n",
       "      <td>female</td>\n",
       "      <td>19.0</td>\n",
       "      <td>0</td>\n",
       "      <td>0</td>\n",
       "      <td>112053</td>\n",
       "      <td>30.0000</td>\n",
       "      <td>B42</td>\n",
       "      <td>S</td>\n",
       "    </tr>\n",
       "    <tr>\n",
       "      <th>889</th>\n",
       "      <td>0</td>\n",
       "      <td>3</td>\n",
       "      <td>Johnston, Miss. Catherine Helen \"Carrie\"</td>\n",
       "      <td>female</td>\n",
       "      <td>NaN</td>\n",
       "      <td>1</td>\n",
       "      <td>2</td>\n",
       "      <td>W./C. 6607</td>\n",
       "      <td>23.4500</td>\n",
       "      <td>NaN</td>\n",
       "      <td>S</td>\n",
       "    </tr>\n",
       "    <tr>\n",
       "      <th>890</th>\n",
       "      <td>1</td>\n",
       "      <td>1</td>\n",
       "      <td>Behr, Mr. Karl Howell</td>\n",
       "      <td>male</td>\n",
       "      <td>26.0</td>\n",
       "      <td>0</td>\n",
       "      <td>0</td>\n",
       "      <td>111369</td>\n",
       "      <td>30.0000</td>\n",
       "      <td>C148</td>\n",
       "      <td>C</td>\n",
       "    </tr>\n",
       "    <tr>\n",
       "      <th>891</th>\n",
       "      <td>0</td>\n",
       "      <td>3</td>\n",
       "      <td>Dooley, Mr. Patrick</td>\n",
       "      <td>male</td>\n",
       "      <td>32.0</td>\n",
       "      <td>0</td>\n",
       "      <td>0</td>\n",
       "      <td>370376</td>\n",
       "      <td>7.7500</td>\n",
       "      <td>NaN</td>\n",
       "      <td>Q</td>\n",
       "    </tr>\n",
       "  </tbody>\n",
       "</table>\n",
       "<p>891 rows × 11 columns</p>\n",
       "</div>"
      ],
      "text/plain": [
       "             Survived  Pclass  \\\n",
       "PassengerId                     \n",
       "1                   0       3   \n",
       "2                   1       1   \n",
       "3                   1       3   \n",
       "4                   1       1   \n",
       "5                   0       3   \n",
       "...               ...     ...   \n",
       "887                 0       2   \n",
       "888                 1       1   \n",
       "889                 0       3   \n",
       "890                 1       1   \n",
       "891                 0       3   \n",
       "\n",
       "                                                          Name     Sex   Age  \\\n",
       "PassengerId                                                                    \n",
       "1                                      Braund, Mr. Owen Harris    male  22.0   \n",
       "2            Cumings, Mrs. John Bradley (Florence Briggs Th...  female  38.0   \n",
       "3                                       Heikkinen, Miss. Laina  female  26.0   \n",
       "4                 Futrelle, Mrs. Jacques Heath (Lily May Peel)  female  35.0   \n",
       "5                                     Allen, Mr. William Henry    male  35.0   \n",
       "...                                                        ...     ...   ...   \n",
       "887                                      Montvila, Rev. Juozas    male  27.0   \n",
       "888                               Graham, Miss. Margaret Edith  female  19.0   \n",
       "889                   Johnston, Miss. Catherine Helen \"Carrie\"  female   NaN   \n",
       "890                                      Behr, Mr. Karl Howell    male  26.0   \n",
       "891                                        Dooley, Mr. Patrick    male  32.0   \n",
       "\n",
       "             SibSp  Parch            Ticket     Fare Cabin Embarked  \n",
       "PassengerId                                                          \n",
       "1                1      0         A/5 21171   7.2500   NaN        S  \n",
       "2                1      0          PC 17599  71.2833   C85        C  \n",
       "3                0      0  STON/O2. 3101282   7.9250   NaN        S  \n",
       "4                1      0            113803  53.1000  C123        S  \n",
       "5                0      0            373450   8.0500   NaN        S  \n",
       "...            ...    ...               ...      ...   ...      ...  \n",
       "887              0      0            211536  13.0000   NaN        S  \n",
       "888              0      0            112053  30.0000   B42        S  \n",
       "889              1      2        W./C. 6607  23.4500   NaN        S  \n",
       "890              0      0            111369  30.0000  C148        C  \n",
       "891              0      0            370376   7.7500   NaN        Q  \n",
       "\n",
       "[891 rows x 11 columns]"
      ]
     },
     "metadata": {},
     "output_type": "display_data"
    }
   ],
   "source": [
    "train = pd.read_csv('/kaggle/input/titanic/train.csv', index_col='PassengerId')\n",
    "display(train)"
   ]
  },
  {
   "cell_type": "code",
   "execution_count": 3,
   "id": "9816ced5",
   "metadata": {
    "execution": {
     "iopub.execute_input": "2023-10-18T21:23:27.634940Z",
     "iopub.status.busy": "2023-10-18T21:23:27.634576Z",
     "iopub.status.idle": "2023-10-18T21:23:27.657068Z",
     "shell.execute_reply": "2023-10-18T21:23:27.655889Z"
    },
    "papermill": {
     "duration": 0.035004,
     "end_time": "2023-10-18T21:23:27.659191",
     "exception": false,
     "start_time": "2023-10-18T21:23:27.624187",
     "status": "completed"
    },
    "tags": []
   },
   "outputs": [
    {
     "name": "stdout",
     "output_type": "stream",
     "text": [
      "<class 'pandas.core.frame.DataFrame'>\n",
      "Index: 891 entries, 1 to 891\n",
      "Data columns (total 11 columns):\n",
      " #   Column    Non-Null Count  Dtype  \n",
      "---  ------    --------------  -----  \n",
      " 0   Survived  891 non-null    int64  \n",
      " 1   Pclass    891 non-null    int64  \n",
      " 2   Name      891 non-null    object \n",
      " 3   Sex       891 non-null    object \n",
      " 4   Age       714 non-null    float64\n",
      " 5   SibSp     891 non-null    int64  \n",
      " 6   Parch     891 non-null    int64  \n",
      " 7   Ticket    891 non-null    object \n",
      " 8   Fare      891 non-null    float64\n",
      " 9   Cabin     204 non-null    object \n",
      " 10  Embarked  889 non-null    object \n",
      "dtypes: float64(2), int64(4), object(5)\n",
      "memory usage: 83.5+ KB\n"
     ]
    }
   ],
   "source": [
    "train.info()"
   ]
  },
  {
   "cell_type": "code",
   "execution_count": 4,
   "id": "b8adc12b",
   "metadata": {
    "execution": {
     "iopub.execute_input": "2023-10-18T21:23:27.679997Z",
     "iopub.status.busy": "2023-10-18T21:23:27.679586Z",
     "iopub.status.idle": "2023-10-18T21:23:27.724935Z",
     "shell.execute_reply": "2023-10-18T21:23:27.724028Z"
    },
    "papermill": {
     "duration": 0.058604,
     "end_time": "2023-10-18T21:23:27.727350",
     "exception": false,
     "start_time": "2023-10-18T21:23:27.668746",
     "status": "completed"
    },
    "tags": []
   },
   "outputs": [
    {
     "data": {
      "text/html": [
       "<div>\n",
       "<style scoped>\n",
       "    .dataframe tbody tr th:only-of-type {\n",
       "        vertical-align: middle;\n",
       "    }\n",
       "\n",
       "    .dataframe tbody tr th {\n",
       "        vertical-align: top;\n",
       "    }\n",
       "\n",
       "    .dataframe thead th {\n",
       "        text-align: right;\n",
       "    }\n",
       "</style>\n",
       "<table border=\"1\" class=\"dataframe\">\n",
       "  <thead>\n",
       "    <tr style=\"text-align: right;\">\n",
       "      <th></th>\n",
       "      <th>Survived</th>\n",
       "      <th>Pclass</th>\n",
       "      <th>Name</th>\n",
       "      <th>Sex</th>\n",
       "      <th>Age</th>\n",
       "      <th>SibSp</th>\n",
       "      <th>Parch</th>\n",
       "      <th>Ticket</th>\n",
       "      <th>Fare</th>\n",
       "      <th>Cabin</th>\n",
       "      <th>Embarked</th>\n",
       "    </tr>\n",
       "  </thead>\n",
       "  <tbody>\n",
       "    <tr>\n",
       "      <th>count</th>\n",
       "      <td>891.000000</td>\n",
       "      <td>891.000000</td>\n",
       "      <td>891</td>\n",
       "      <td>891</td>\n",
       "      <td>714.000000</td>\n",
       "      <td>891.000000</td>\n",
       "      <td>891.000000</td>\n",
       "      <td>891</td>\n",
       "      <td>891.000000</td>\n",
       "      <td>204</td>\n",
       "      <td>889</td>\n",
       "    </tr>\n",
       "    <tr>\n",
       "      <th>unique</th>\n",
       "      <td>NaN</td>\n",
       "      <td>NaN</td>\n",
       "      <td>891</td>\n",
       "      <td>2</td>\n",
       "      <td>NaN</td>\n",
       "      <td>NaN</td>\n",
       "      <td>NaN</td>\n",
       "      <td>681</td>\n",
       "      <td>NaN</td>\n",
       "      <td>147</td>\n",
       "      <td>3</td>\n",
       "    </tr>\n",
       "    <tr>\n",
       "      <th>top</th>\n",
       "      <td>NaN</td>\n",
       "      <td>NaN</td>\n",
       "      <td>Braund, Mr. Owen Harris</td>\n",
       "      <td>male</td>\n",
       "      <td>NaN</td>\n",
       "      <td>NaN</td>\n",
       "      <td>NaN</td>\n",
       "      <td>347082</td>\n",
       "      <td>NaN</td>\n",
       "      <td>B96 B98</td>\n",
       "      <td>S</td>\n",
       "    </tr>\n",
       "    <tr>\n",
       "      <th>freq</th>\n",
       "      <td>NaN</td>\n",
       "      <td>NaN</td>\n",
       "      <td>1</td>\n",
       "      <td>577</td>\n",
       "      <td>NaN</td>\n",
       "      <td>NaN</td>\n",
       "      <td>NaN</td>\n",
       "      <td>7</td>\n",
       "      <td>NaN</td>\n",
       "      <td>4</td>\n",
       "      <td>644</td>\n",
       "    </tr>\n",
       "    <tr>\n",
       "      <th>mean</th>\n",
       "      <td>0.383838</td>\n",
       "      <td>2.308642</td>\n",
       "      <td>NaN</td>\n",
       "      <td>NaN</td>\n",
       "      <td>29.699118</td>\n",
       "      <td>0.523008</td>\n",
       "      <td>0.381594</td>\n",
       "      <td>NaN</td>\n",
       "      <td>32.204208</td>\n",
       "      <td>NaN</td>\n",
       "      <td>NaN</td>\n",
       "    </tr>\n",
       "    <tr>\n",
       "      <th>std</th>\n",
       "      <td>0.486592</td>\n",
       "      <td>0.836071</td>\n",
       "      <td>NaN</td>\n",
       "      <td>NaN</td>\n",
       "      <td>14.526497</td>\n",
       "      <td>1.102743</td>\n",
       "      <td>0.806057</td>\n",
       "      <td>NaN</td>\n",
       "      <td>49.693429</td>\n",
       "      <td>NaN</td>\n",
       "      <td>NaN</td>\n",
       "    </tr>\n",
       "    <tr>\n",
       "      <th>min</th>\n",
       "      <td>0.000000</td>\n",
       "      <td>1.000000</td>\n",
       "      <td>NaN</td>\n",
       "      <td>NaN</td>\n",
       "      <td>0.420000</td>\n",
       "      <td>0.000000</td>\n",
       "      <td>0.000000</td>\n",
       "      <td>NaN</td>\n",
       "      <td>0.000000</td>\n",
       "      <td>NaN</td>\n",
       "      <td>NaN</td>\n",
       "    </tr>\n",
       "    <tr>\n",
       "      <th>25%</th>\n",
       "      <td>0.000000</td>\n",
       "      <td>2.000000</td>\n",
       "      <td>NaN</td>\n",
       "      <td>NaN</td>\n",
       "      <td>20.125000</td>\n",
       "      <td>0.000000</td>\n",
       "      <td>0.000000</td>\n",
       "      <td>NaN</td>\n",
       "      <td>7.910400</td>\n",
       "      <td>NaN</td>\n",
       "      <td>NaN</td>\n",
       "    </tr>\n",
       "    <tr>\n",
       "      <th>50%</th>\n",
       "      <td>0.000000</td>\n",
       "      <td>3.000000</td>\n",
       "      <td>NaN</td>\n",
       "      <td>NaN</td>\n",
       "      <td>28.000000</td>\n",
       "      <td>0.000000</td>\n",
       "      <td>0.000000</td>\n",
       "      <td>NaN</td>\n",
       "      <td>14.454200</td>\n",
       "      <td>NaN</td>\n",
       "      <td>NaN</td>\n",
       "    </tr>\n",
       "    <tr>\n",
       "      <th>75%</th>\n",
       "      <td>1.000000</td>\n",
       "      <td>3.000000</td>\n",
       "      <td>NaN</td>\n",
       "      <td>NaN</td>\n",
       "      <td>38.000000</td>\n",
       "      <td>1.000000</td>\n",
       "      <td>0.000000</td>\n",
       "      <td>NaN</td>\n",
       "      <td>31.000000</td>\n",
       "      <td>NaN</td>\n",
       "      <td>NaN</td>\n",
       "    </tr>\n",
       "    <tr>\n",
       "      <th>max</th>\n",
       "      <td>1.000000</td>\n",
       "      <td>3.000000</td>\n",
       "      <td>NaN</td>\n",
       "      <td>NaN</td>\n",
       "      <td>80.000000</td>\n",
       "      <td>8.000000</td>\n",
       "      <td>6.000000</td>\n",
       "      <td>NaN</td>\n",
       "      <td>512.329200</td>\n",
       "      <td>NaN</td>\n",
       "      <td>NaN</td>\n",
       "    </tr>\n",
       "  </tbody>\n",
       "</table>\n",
       "</div>"
      ],
      "text/plain": [
       "          Survived      Pclass                     Name   Sex         Age  \\\n",
       "count   891.000000  891.000000                      891   891  714.000000   \n",
       "unique         NaN         NaN                      891     2         NaN   \n",
       "top            NaN         NaN  Braund, Mr. Owen Harris  male         NaN   \n",
       "freq           NaN         NaN                        1   577         NaN   \n",
       "mean      0.383838    2.308642                      NaN   NaN   29.699118   \n",
       "std       0.486592    0.836071                      NaN   NaN   14.526497   \n",
       "min       0.000000    1.000000                      NaN   NaN    0.420000   \n",
       "25%       0.000000    2.000000                      NaN   NaN   20.125000   \n",
       "50%       0.000000    3.000000                      NaN   NaN   28.000000   \n",
       "75%       1.000000    3.000000                      NaN   NaN   38.000000   \n",
       "max       1.000000    3.000000                      NaN   NaN   80.000000   \n",
       "\n",
       "             SibSp       Parch  Ticket        Fare    Cabin Embarked  \n",
       "count   891.000000  891.000000     891  891.000000      204      889  \n",
       "unique         NaN         NaN     681         NaN      147        3  \n",
       "top            NaN         NaN  347082         NaN  B96 B98        S  \n",
       "freq           NaN         NaN       7         NaN        4      644  \n",
       "mean      0.523008    0.381594     NaN   32.204208      NaN      NaN  \n",
       "std       1.102743    0.806057     NaN   49.693429      NaN      NaN  \n",
       "min       0.000000    0.000000     NaN    0.000000      NaN      NaN  \n",
       "25%       0.000000    0.000000     NaN    7.910400      NaN      NaN  \n",
       "50%       0.000000    0.000000     NaN   14.454200      NaN      NaN  \n",
       "75%       1.000000    0.000000     NaN   31.000000      NaN      NaN  \n",
       "max       8.000000    6.000000     NaN  512.329200      NaN      NaN  "
      ]
     },
     "execution_count": 4,
     "metadata": {},
     "output_type": "execute_result"
    }
   ],
   "source": [
    "train.describe(include='all')"
   ]
  },
  {
   "cell_type": "markdown",
   "id": "2766336f",
   "metadata": {
    "papermill": {
     "duration": 0.009754,
     "end_time": "2023-10-18T21:23:27.746980",
     "exception": false,
     "start_time": "2023-10-18T21:23:27.737226",
     "status": "completed"
    },
    "tags": []
   },
   "source": [
    "We will drop the features: Name, Ticket and Cabin. Cabin appears to have a lot of missing values which will make it difficult to use. Name and Ticket are also difficult to use."
   ]
  },
  {
   "cell_type": "code",
   "execution_count": 5,
   "id": "6885711b",
   "metadata": {
    "execution": {
     "iopub.execute_input": "2023-10-18T21:23:27.770161Z",
     "iopub.status.busy": "2023-10-18T21:23:27.769739Z",
     "iopub.status.idle": "2023-10-18T21:23:27.775754Z",
     "shell.execute_reply": "2023-10-18T21:23:27.774726Z"
    },
    "papermill": {
     "duration": 0.019484,
     "end_time": "2023-10-18T21:23:27.777581",
     "exception": false,
     "start_time": "2023-10-18T21:23:27.758097",
     "status": "completed"
    },
    "tags": []
   },
   "outputs": [],
   "source": [
    "train.drop(['Name', 'Ticket', 'Cabin'], axis=1, inplace=True)"
   ]
  },
  {
   "cell_type": "code",
   "execution_count": 6,
   "id": "0305f104",
   "metadata": {
    "execution": {
     "iopub.execute_input": "2023-10-18T21:23:27.799127Z",
     "iopub.status.busy": "2023-10-18T21:23:27.798778Z",
     "iopub.status.idle": "2023-10-18T21:23:27.809213Z",
     "shell.execute_reply": "2023-10-18T21:23:27.808059Z"
    },
    "papermill": {
     "duration": 0.024094,
     "end_time": "2023-10-18T21:23:27.811649",
     "exception": false,
     "start_time": "2023-10-18T21:23:27.787555",
     "status": "completed"
    },
    "tags": []
   },
   "outputs": [
    {
     "name": "stdout",
     "output_type": "stream",
     "text": [
      "<class 'pandas.core.frame.DataFrame'>\n",
      "Index: 891 entries, 1 to 891\n",
      "Data columns (total 8 columns):\n",
      " #   Column    Non-Null Count  Dtype  \n",
      "---  ------    --------------  -----  \n",
      " 0   Survived  891 non-null    int64  \n",
      " 1   Pclass    891 non-null    int64  \n",
      " 2   Sex       891 non-null    object \n",
      " 3   Age       714 non-null    float64\n",
      " 4   SibSp     891 non-null    int64  \n",
      " 5   Parch     891 non-null    int64  \n",
      " 6   Fare      891 non-null    float64\n",
      " 7   Embarked  889 non-null    object \n",
      "dtypes: float64(2), int64(4), object(2)\n",
      "memory usage: 62.6+ KB\n"
     ]
    }
   ],
   "source": [
    "train.info()"
   ]
  },
  {
   "cell_type": "markdown",
   "id": "b0dcb604",
   "metadata": {
    "papermill": {
     "duration": 0.009659,
     "end_time": "2023-10-18T21:23:27.833220",
     "exception": false,
     "start_time": "2023-10-18T21:23:27.823561",
     "status": "completed"
    },
    "tags": []
   },
   "source": [
    "Applying One hot encoding for Embarked and encoding Sex to -1 (male) and 1 (female)"
   ]
  },
  {
   "cell_type": "code",
   "execution_count": 7,
   "id": "cac6a658",
   "metadata": {
    "execution": {
     "iopub.execute_input": "2023-10-18T21:23:27.855673Z",
     "iopub.status.busy": "2023-10-18T21:23:27.854851Z",
     "iopub.status.idle": "2023-10-18T21:23:27.874064Z",
     "shell.execute_reply": "2023-10-18T21:23:27.872618Z"
    },
    "papermill": {
     "duration": 0.034198,
     "end_time": "2023-10-18T21:23:27.877240",
     "exception": false,
     "start_time": "2023-10-18T21:23:27.843042",
     "status": "completed"
    },
    "tags": []
   },
   "outputs": [
    {
     "name": "stdout",
     "output_type": "stream",
     "text": [
      "<class 'pandas.core.frame.DataFrame'>\n",
      "Index: 891 entries, 1 to 891\n",
      "Data columns (total 10 columns):\n",
      " #   Column      Non-Null Count  Dtype  \n",
      "---  ------      --------------  -----  \n",
      " 0   Survived    891 non-null    int64  \n",
      " 1   Pclass      891 non-null    int64  \n",
      " 2   Sex         891 non-null    int64  \n",
      " 3   Age         714 non-null    float64\n",
      " 4   SibSp       891 non-null    int64  \n",
      " 5   Parch       891 non-null    int64  \n",
      " 6   Fare        891 non-null    float64\n",
      " 7   Embarked_C  891 non-null    int64  \n",
      " 8   Embarked_Q  891 non-null    int64  \n",
      " 9   Embarked_S  891 non-null    int64  \n",
      "dtypes: float64(2), int64(8)\n",
      "memory usage: 76.6 KB\n"
     ]
    }
   ],
   "source": [
    "# One hot encoding for Embarked\n",
    "train = pd.get_dummies(train, columns=['Embarked'], dtype=np.int64)\n",
    "\n",
    "# Label Sex as -1 and 1 for male and female\n",
    "train['Sex'].replace({'male': -1, 'female': 1}, inplace=True)\n",
    "\n",
    "train.info()\n"
   ]
  },
  {
   "cell_type": "code",
   "execution_count": 8,
   "id": "31b7e70f",
   "metadata": {
    "execution": {
     "iopub.execute_input": "2023-10-18T21:23:27.899013Z",
     "iopub.status.busy": "2023-10-18T21:23:27.898637Z",
     "iopub.status.idle": "2023-10-18T21:23:27.912575Z",
     "shell.execute_reply": "2023-10-18T21:23:27.911533Z"
    },
    "papermill": {
     "duration": 0.027787,
     "end_time": "2023-10-18T21:23:27.914819",
     "exception": false,
     "start_time": "2023-10-18T21:23:27.887032",
     "status": "completed"
    },
    "tags": []
   },
   "outputs": [
    {
     "data": {
      "text/html": [
       "<div>\n",
       "<style scoped>\n",
       "    .dataframe tbody tr th:only-of-type {\n",
       "        vertical-align: middle;\n",
       "    }\n",
       "\n",
       "    .dataframe tbody tr th {\n",
       "        vertical-align: top;\n",
       "    }\n",
       "\n",
       "    .dataframe thead th {\n",
       "        text-align: right;\n",
       "    }\n",
       "</style>\n",
       "<table border=\"1\" class=\"dataframe\">\n",
       "  <thead>\n",
       "    <tr style=\"text-align: right;\">\n",
       "      <th></th>\n",
       "      <th>Pclass</th>\n",
       "      <th>Sex</th>\n",
       "      <th>Age</th>\n",
       "      <th>SibSp</th>\n",
       "      <th>Parch</th>\n",
       "      <th>Fare</th>\n",
       "      <th>Embarked_C</th>\n",
       "      <th>Embarked_Q</th>\n",
       "      <th>Embarked_S</th>\n",
       "    </tr>\n",
       "    <tr>\n",
       "      <th>PassengerId</th>\n",
       "      <th></th>\n",
       "      <th></th>\n",
       "      <th></th>\n",
       "      <th></th>\n",
       "      <th></th>\n",
       "      <th></th>\n",
       "      <th></th>\n",
       "      <th></th>\n",
       "      <th></th>\n",
       "    </tr>\n",
       "  </thead>\n",
       "  <tbody>\n",
       "    <tr>\n",
       "      <th>1</th>\n",
       "      <td>3</td>\n",
       "      <td>-1</td>\n",
       "      <td>22.0</td>\n",
       "      <td>1</td>\n",
       "      <td>0</td>\n",
       "      <td>7.2500</td>\n",
       "      <td>0</td>\n",
       "      <td>0</td>\n",
       "      <td>1</td>\n",
       "    </tr>\n",
       "    <tr>\n",
       "      <th>2</th>\n",
       "      <td>1</td>\n",
       "      <td>1</td>\n",
       "      <td>38.0</td>\n",
       "      <td>1</td>\n",
       "      <td>0</td>\n",
       "      <td>71.2833</td>\n",
       "      <td>1</td>\n",
       "      <td>0</td>\n",
       "      <td>0</td>\n",
       "    </tr>\n",
       "    <tr>\n",
       "      <th>3</th>\n",
       "      <td>3</td>\n",
       "      <td>1</td>\n",
       "      <td>26.0</td>\n",
       "      <td>0</td>\n",
       "      <td>0</td>\n",
       "      <td>7.9250</td>\n",
       "      <td>0</td>\n",
       "      <td>0</td>\n",
       "      <td>1</td>\n",
       "    </tr>\n",
       "    <tr>\n",
       "      <th>4</th>\n",
       "      <td>1</td>\n",
       "      <td>1</td>\n",
       "      <td>35.0</td>\n",
       "      <td>1</td>\n",
       "      <td>0</td>\n",
       "      <td>53.1000</td>\n",
       "      <td>0</td>\n",
       "      <td>0</td>\n",
       "      <td>1</td>\n",
       "    </tr>\n",
       "    <tr>\n",
       "      <th>5</th>\n",
       "      <td>3</td>\n",
       "      <td>-1</td>\n",
       "      <td>35.0</td>\n",
       "      <td>0</td>\n",
       "      <td>0</td>\n",
       "      <td>8.0500</td>\n",
       "      <td>0</td>\n",
       "      <td>0</td>\n",
       "      <td>1</td>\n",
       "    </tr>\n",
       "  </tbody>\n",
       "</table>\n",
       "</div>"
      ],
      "text/plain": [
       "             Pclass  Sex   Age  SibSp  Parch     Fare  Embarked_C  Embarked_Q  \\\n",
       "PassengerId                                                                     \n",
       "1                 3   -1  22.0      1      0   7.2500           0           0   \n",
       "2                 1    1  38.0      1      0  71.2833           1           0   \n",
       "3                 3    1  26.0      0      0   7.9250           0           0   \n",
       "4                 1    1  35.0      1      0  53.1000           0           0   \n",
       "5                 3   -1  35.0      0      0   8.0500           0           0   \n",
       "\n",
       "             Embarked_S  \n",
       "PassengerId              \n",
       "1                     1  \n",
       "2                     0  \n",
       "3                     1  \n",
       "4                     1  \n",
       "5                     1  "
      ]
     },
     "execution_count": 8,
     "metadata": {},
     "output_type": "execute_result"
    }
   ],
   "source": [
    "X = train.drop('Survived', axis=1)\n",
    "y = train['Survived']\n",
    "X.head()"
   ]
  },
  {
   "cell_type": "code",
   "execution_count": 9,
   "id": "7c3991b5",
   "metadata": {
    "execution": {
     "iopub.execute_input": "2023-10-18T21:23:27.999375Z",
     "iopub.status.busy": "2023-10-18T21:23:27.999030Z",
     "iopub.status.idle": "2023-10-18T21:23:28.039527Z",
     "shell.execute_reply": "2023-10-18T21:23:28.038481Z"
    },
    "papermill": {
     "duration": 0.054445,
     "end_time": "2023-10-18T21:23:28.041927",
     "exception": false,
     "start_time": "2023-10-18T21:23:27.987482",
     "status": "completed"
    },
    "tags": []
   },
   "outputs": [
    {
     "data": {
      "text/html": [
       "<div>\n",
       "<style scoped>\n",
       "    .dataframe tbody tr th:only-of-type {\n",
       "        vertical-align: middle;\n",
       "    }\n",
       "\n",
       "    .dataframe tbody tr th {\n",
       "        vertical-align: top;\n",
       "    }\n",
       "\n",
       "    .dataframe thead th {\n",
       "        text-align: right;\n",
       "    }\n",
       "</style>\n",
       "<table border=\"1\" class=\"dataframe\">\n",
       "  <thead>\n",
       "    <tr style=\"text-align: right;\">\n",
       "      <th></th>\n",
       "      <th>Pclass</th>\n",
       "      <th>Sex</th>\n",
       "      <th>Age</th>\n",
       "      <th>SibSp</th>\n",
       "      <th>Parch</th>\n",
       "      <th>Fare</th>\n",
       "      <th>Embarked_C</th>\n",
       "      <th>Embarked_Q</th>\n",
       "      <th>Embarked_S</th>\n",
       "    </tr>\n",
       "  </thead>\n",
       "  <tbody>\n",
       "    <tr>\n",
       "      <th>count</th>\n",
       "      <td>8.910000e+02</td>\n",
       "      <td>8.910000e+02</td>\n",
       "      <td>7.140000e+02</td>\n",
       "      <td>8.910000e+02</td>\n",
       "      <td>8.910000e+02</td>\n",
       "      <td>8.910000e+02</td>\n",
       "      <td>8.910000e+02</td>\n",
       "      <td>891.000000</td>\n",
       "      <td>8.910000e+02</td>\n",
       "    </tr>\n",
       "    <tr>\n",
       "      <th>mean</th>\n",
       "      <td>-8.772133e-17</td>\n",
       "      <td>3.987333e-17</td>\n",
       "      <td>2.388379e-16</td>\n",
       "      <td>4.386066e-17</td>\n",
       "      <td>5.382900e-17</td>\n",
       "      <td>3.987333e-18</td>\n",
       "      <td>-1.993666e-17</td>\n",
       "      <td>0.000000</td>\n",
       "      <td>-4.984166e-17</td>\n",
       "    </tr>\n",
       "    <tr>\n",
       "      <th>std</th>\n",
       "      <td>1.000562e+00</td>\n",
       "      <td>1.000562e+00</td>\n",
       "      <td>1.000701e+00</td>\n",
       "      <td>1.000562e+00</td>\n",
       "      <td>1.000562e+00</td>\n",
       "      <td>1.000562e+00</td>\n",
       "      <td>1.000562e+00</td>\n",
       "      <td>1.000562</td>\n",
       "      <td>1.000562e+00</td>\n",
       "    </tr>\n",
       "    <tr>\n",
       "      <th>min</th>\n",
       "      <td>-1.566107e+00</td>\n",
       "      <td>-7.376951e-01</td>\n",
       "      <td>-2.016979e+00</td>\n",
       "      <td>-4.745452e-01</td>\n",
       "      <td>-4.736736e-01</td>\n",
       "      <td>-6.484217e-01</td>\n",
       "      <td>-4.820427e-01</td>\n",
       "      <td>-0.307562</td>\n",
       "      <td>-1.614710e+00</td>\n",
       "    </tr>\n",
       "    <tr>\n",
       "      <th>25%</th>\n",
       "      <td>-3.693648e-01</td>\n",
       "      <td>-7.376951e-01</td>\n",
       "      <td>-6.595416e-01</td>\n",
       "      <td>-4.745452e-01</td>\n",
       "      <td>-4.736736e-01</td>\n",
       "      <td>-4.891482e-01</td>\n",
       "      <td>-4.820427e-01</td>\n",
       "      <td>-0.307562</td>\n",
       "      <td>-1.614710e+00</td>\n",
       "    </tr>\n",
       "    <tr>\n",
       "      <th>50%</th>\n",
       "      <td>8.273772e-01</td>\n",
       "      <td>-7.376951e-01</td>\n",
       "      <td>-1.170488e-01</td>\n",
       "      <td>-4.745452e-01</td>\n",
       "      <td>-4.736736e-01</td>\n",
       "      <td>-3.573909e-01</td>\n",
       "      <td>-4.820427e-01</td>\n",
       "      <td>-0.307562</td>\n",
       "      <td>6.193064e-01</td>\n",
       "    </tr>\n",
       "    <tr>\n",
       "      <th>75%</th>\n",
       "      <td>8.273772e-01</td>\n",
       "      <td>1.355574e+00</td>\n",
       "      <td>5.718310e-01</td>\n",
       "      <td>4.327934e-01</td>\n",
       "      <td>-4.736736e-01</td>\n",
       "      <td>-2.424635e-02</td>\n",
       "      <td>-4.820427e-01</td>\n",
       "      <td>-0.307562</td>\n",
       "      <td>6.193064e-01</td>\n",
       "    </tr>\n",
       "    <tr>\n",
       "      <th>max</th>\n",
       "      <td>8.273772e-01</td>\n",
       "      <td>1.355574e+00</td>\n",
       "      <td>3.465126e+00</td>\n",
       "      <td>6.784163e+00</td>\n",
       "      <td>6.974147e+00</td>\n",
       "      <td>9.667167e+00</td>\n",
       "      <td>2.074505e+00</td>\n",
       "      <td>3.251373</td>\n",
       "      <td>6.193064e-01</td>\n",
       "    </tr>\n",
       "  </tbody>\n",
       "</table>\n",
       "</div>"
      ],
      "text/plain": [
       "             Pclass           Sex           Age         SibSp         Parch  \\\n",
       "count  8.910000e+02  8.910000e+02  7.140000e+02  8.910000e+02  8.910000e+02   \n",
       "mean  -8.772133e-17  3.987333e-17  2.388379e-16  4.386066e-17  5.382900e-17   \n",
       "std    1.000562e+00  1.000562e+00  1.000701e+00  1.000562e+00  1.000562e+00   \n",
       "min   -1.566107e+00 -7.376951e-01 -2.016979e+00 -4.745452e-01 -4.736736e-01   \n",
       "25%   -3.693648e-01 -7.376951e-01 -6.595416e-01 -4.745452e-01 -4.736736e-01   \n",
       "50%    8.273772e-01 -7.376951e-01 -1.170488e-01 -4.745452e-01 -4.736736e-01   \n",
       "75%    8.273772e-01  1.355574e+00  5.718310e-01  4.327934e-01 -4.736736e-01   \n",
       "max    8.273772e-01  1.355574e+00  3.465126e+00  6.784163e+00  6.974147e+00   \n",
       "\n",
       "               Fare    Embarked_C  Embarked_Q    Embarked_S  \n",
       "count  8.910000e+02  8.910000e+02  891.000000  8.910000e+02  \n",
       "mean   3.987333e-18 -1.993666e-17    0.000000 -4.984166e-17  \n",
       "std    1.000562e+00  1.000562e+00    1.000562  1.000562e+00  \n",
       "min   -6.484217e-01 -4.820427e-01   -0.307562 -1.614710e+00  \n",
       "25%   -4.891482e-01 -4.820427e-01   -0.307562 -1.614710e+00  \n",
       "50%   -3.573909e-01 -4.820427e-01   -0.307562  6.193064e-01  \n",
       "75%   -2.424635e-02 -4.820427e-01   -0.307562  6.193064e-01  \n",
       "max    9.667167e+00  2.074505e+00    3.251373  6.193064e-01  "
      ]
     },
     "execution_count": 9,
     "metadata": {},
     "output_type": "execute_result"
    }
   ],
   "source": [
    "# Scale the data\n",
    "scaler = StandardScaler()\n",
    "Scaled = scaler.fit_transform(X)\n",
    "X = pd.DataFrame(Scaled, columns=X.columns, index=X.index)\n",
    "X.describe()\n",
    "\n"
   ]
  },
  {
   "cell_type": "code",
   "execution_count": 10,
   "id": "07861afc",
   "metadata": {
    "execution": {
     "iopub.execute_input": "2023-10-18T21:23:28.065278Z",
     "iopub.status.busy": "2023-10-18T21:23:28.064936Z",
     "iopub.status.idle": "2023-10-18T21:23:28.595882Z",
     "shell.execute_reply": "2023-10-18T21:23:28.595055Z"
    },
    "papermill": {
     "duration": 0.546193,
     "end_time": "2023-10-18T21:23:28.598525",
     "exception": false,
     "start_time": "2023-10-18T21:23:28.052332",
     "status": "completed"
    },
    "tags": []
   },
   "outputs": [
    {
     "data": {
      "image/png": "[encoded data removed]",
      "text/plain": [
       "<Figure size 1000x1000 with 2 Axes>"
      ]
     },
     "metadata": {},
     "output_type": "display_data"
    }
   ],
   "source": [
    "# Display the correlation heatmap (absolute values)\n",
    "plt.figure(figsize=(10, 10))\n",
    "sns.heatmap(X.corr().abs(), annot=True)\n",
    "plt.show()\n",
    "\n"
   ]
  },
  {
   "cell_type": "markdown",
   "id": "6a75bcb2",
   "metadata": {
    "papermill": {
     "duration": 0.011974,
     "end_time": "2023-10-18T21:23:28.622625",
     "exception": false,
     "start_time": "2023-10-18T21:23:28.610651",
     "status": "completed"
    },
    "tags": []
   },
   "source": [
    "## Predicting missing age values\n",
    "Since Age has missing values, we will try to fit a model to predict the age. Since Pclass and Parch seem to have some correlation with Age, we will use these as our features, we will also check to see if simply using the mean and median of the age is a better predictor as well as using the mean and median of the age for each Pclass."
   ]
  },
  {
   "cell_type": "code",
   "execution_count": 11,
   "id": "5d32e79c",
   "metadata": {
    "execution": {
     "iopub.execute_input": "2023-10-18T21:23:28.649773Z",
     "iopub.status.busy": "2023-10-18T21:23:28.649026Z",
     "iopub.status.idle": "2023-10-18T21:23:28.656777Z",
     "shell.execute_reply": "2023-10-18T21:23:28.655964Z"
    },
    "papermill": {
     "duration": 0.023956,
     "end_time": "2023-10-18T21:23:28.658892",
     "exception": false,
     "start_time": "2023-10-18T21:23:28.634936",
     "status": "completed"
    },
    "tags": []
   },
   "outputs": [],
   "source": [
    "# Get X_age and y_age\n",
    "age = X[X['Age'].notnull()]\n",
    "# select Pclass, Parch and SibSp as features\n",
    "X_age = age[['Pclass', 'Parch', 'SibSp']]\n",
    "y_age = age['Age']\n",
    "\n",
    "# Split the data\n",
    "X_age_train, X_age_test, y_age_train, y_age_test = train_test_split(X_age, y_age, test_size=0.2, random_state=42)"
   ]
  },
  {
   "cell_type": "code",
   "execution_count": 12,
   "id": "13f5e4c1",
   "metadata": {
    "execution": {
     "iopub.execute_input": "2023-10-18T21:23:28.685558Z",
     "iopub.status.busy": "2023-10-18T21:23:28.685205Z",
     "iopub.status.idle": "2023-10-18T21:23:28.773788Z",
     "shell.execute_reply": "2023-10-18T21:23:28.772665Z"
    },
    "papermill": {
     "duration": 0.105261,
     "end_time": "2023-10-18T21:23:28.776189",
     "exception": false,
     "start_time": "2023-10-18T21:23:28.670928",
     "status": "completed"
    },
    "tags": []
   },
   "outputs": [
    {
     "name": "stdout",
     "output_type": "stream",
     "text": [
      "Tuned Linear Regression Parameters: {'fit_intercept': False}\n",
      "Best score is 0.18690690395442294\n"
     ]
    }
   ],
   "source": [
    "# Train Linear Regression model and perform hyperparameter tuning with GridSearchCV\n",
    "age_model_1 = LinearRegression()\n",
    "\n",
    "param_grid = {'fit_intercept': [True, False]}\n",
    "\n",
    "age_model_1_cv = GridSearchCV(age_model_1, param_grid, cv=5)\n",
    "age_model_1_cv.fit(X_age_train, y_age_train)\n",
    "\n",
    "print(\"Tuned Linear Regression Parameters: {}\".format(age_model_1_cv.best_params_))\n",
    "print(\"Best score is {}\".format(age_model_1_cv.best_score_))"
   ]
  },
  {
   "cell_type": "code",
   "execution_count": 13,
   "id": "19076880",
   "metadata": {
    "execution": {
     "iopub.execute_input": "2023-10-18T21:23:28.802339Z",
     "iopub.status.busy": "2023-10-18T21:23:28.801919Z",
     "iopub.status.idle": "2023-10-18T21:25:02.920900Z",
     "shell.execute_reply": "2023-10-18T21:25:02.920043Z"
    },
    "papermill": {
     "duration": 94.14522,
     "end_time": "2023-10-18T21:25:02.933652",
     "exception": false,
     "start_time": "2023-10-18T21:23:28.788432",
     "status": "completed"
    },
    "tags": []
   },
   "outputs": [
    {
     "name": "stdout",
     "output_type": "stream",
     "text": [
      "Tuned Random Forest Parameters: {'max_depth': 4, 'n_estimators': 50}\n",
      "Best score is 0.267538560609417\n"
     ]
    }
   ],
   "source": [
    "# Train Random Forest model and perform hyperparameter tuning with GridSearchCV\n",
    "age_model_2 = RandomForestRegressor(random_state=42)\n",
    "\n",
    "param_grid = {'n_estimators': [50, 100, 200, 300, 400, 500],\n",
    "              'max_depth': [2, 3, 4, 5, 6, 7, 8, 9, 10]}\n",
    "\n",
    "age_model_2_cv = GridSearchCV(age_model_2, param_grid, cv=5)\n",
    "age_model_2_cv.fit(X_age_train, y_age_train)\n",
    "\n",
    "print(\"Tuned Random Forest Parameters: {}\".format(age_model_2_cv.best_params_))\n",
    "print(\"Best score is {}\".format(age_model_2_cv.best_score_))"
   ]
  },
  {
   "cell_type": "code",
   "execution_count": 14,
   "id": "8ca1b7db",
   "metadata": {
    "execution": {
     "iopub.execute_input": "2023-10-18T21:25:02.959790Z",
     "iopub.status.busy": "2023-10-18T21:25:02.958818Z",
     "iopub.status.idle": "2023-10-18T21:25:02.971021Z",
     "shell.execute_reply": "2023-10-18T21:25:02.969913Z"
    },
    "papermill": {
     "duration": 0.027767,
     "end_time": "2023-10-18T21:25:02.973447",
     "exception": false,
     "start_time": "2023-10-18T21:25:02.945680",
     "status": "completed"
    },
    "tags": []
   },
   "outputs": [
    {
     "name": "stdout",
     "output_type": "stream",
     "text": [
      "Linear Regression RMSE: 0.8018483174352822\n"
     ]
    }
   ],
   "source": [
    "# Train Linear Regression model and with best parameters\n",
    "age_model_1 = LinearRegression(fit_intercept=True)\n",
    "age_model_1.fit(X_age_train, y_age_train)\n",
    "\n",
    "# Predict the test set\n",
    "age_pred = age_model_1.predict(X_age_test)\n",
    "\n",
    "# Calculate the RMSE\n",
    "age_rmse = np.sqrt(mean_squared_error(y_age_test, age_pred))\n",
    "print('Linear Regression RMSE: {}'.format(age_rmse))\n"
   ]
  },
  {
   "cell_type": "code",
   "execution_count": 15,
   "id": "94e89420",
   "metadata": {
    "execution": {
     "iopub.execute_input": "2023-10-18T21:25:03.000172Z",
     "iopub.status.busy": "2023-10-18T21:25:02.999778Z",
     "iopub.status.idle": "2023-10-18T21:25:03.080245Z",
     "shell.execute_reply": "2023-10-18T21:25:03.079045Z"
    },
    "papermill": {
     "duration": 0.096555,
     "end_time": "2023-10-18T21:25:03.082476",
     "exception": false,
     "start_time": "2023-10-18T21:25:02.985921",
     "status": "completed"
    },
    "tags": []
   },
   "outputs": [
    {
     "name": "stdout",
     "output_type": "stream",
     "text": [
      "Random Forest RMSE: 0.7732332956303559\n"
     ]
    }
   ],
   "source": [
    "# Train Random Forest model and with best parameters\n",
    "age_model_2 = RandomForestRegressor(n_estimators=50, max_depth=4, random_state=42)\n",
    "age_model_2.fit(X_age_train, y_age_train)\n",
    "\n",
    "# Predict the test set\n",
    "age_pred = age_model_2.predict(X_age_test)\n",
    "\n",
    "# Calculate the RMSE\n",
    "age_rmse = np.sqrt(mean_squared_error(y_age_test, age_pred))\n",
    "print('Random Forest RMSE: {}'.format(age_rmse))\n"
   ]
  },
  {
   "cell_type": "code",
   "execution_count": 16,
   "id": "a525ca04",
   "metadata": {
    "execution": {
     "iopub.execute_input": "2023-10-18T21:25:03.107904Z",
     "iopub.status.busy": "2023-10-18T21:25:03.107580Z",
     "iopub.status.idle": "2023-10-18T21:25:03.114420Z",
     "shell.execute_reply": "2023-10-18T21:25:03.113239Z"
    },
    "papermill": {
     "duration": 0.022234,
     "end_time": "2023-10-18T21:25:03.116700",
     "exception": false,
     "start_time": "2023-10-18T21:25:03.094466",
     "status": "completed"
    },
    "tags": []
   },
   "outputs": [
    {
     "name": "stdout",
     "output_type": "stream",
     "text": [
      "RMSE:  0.9443492516491854\n"
     ]
    }
   ],
   "source": [
    "# Score if we had just used the mean\n",
    "mean_age = y_age_train.mean()\n",
    "y_age_pred = np.full(y_age_test.shape, mean_age)\n",
    "\n",
    "print('RMSE: ', np.sqrt(mean_squared_error(y_age_test, y_age_pred)))\n"
   ]
  },
  {
   "cell_type": "code",
   "execution_count": 17,
   "id": "1946d88e",
   "metadata": {
    "execution": {
     "iopub.execute_input": "2023-10-18T21:25:03.142451Z",
     "iopub.status.busy": "2023-10-18T21:25:03.142111Z",
     "iopub.status.idle": "2023-10-18T21:25:03.149562Z",
     "shell.execute_reply": "2023-10-18T21:25:03.148333Z"
    },
    "papermill": {
     "duration": 0.02279,
     "end_time": "2023-10-18T21:25:03.151593",
     "exception": false,
     "start_time": "2023-10-18T21:25:03.128803",
     "status": "completed"
    },
    "tags": []
   },
   "outputs": [
    {
     "name": "stdout",
     "output_type": "stream",
     "text": [
      "RMSE:  0.9380131883068772\n"
     ]
    }
   ],
   "source": [
    "# Score if we had just used the median\n",
    "median_age = y_age_train.median()\n",
    "y_age_pred = np.full(y_age_test.shape, median_age)\n",
    "\n",
    "print('RMSE: ', np.sqrt(mean_squared_error(y_age_test, y_age_pred)))"
   ]
  },
  {
   "cell_type": "code",
   "execution_count": 18,
   "id": "3f201a8d",
   "metadata": {
    "execution": {
     "iopub.execute_input": "2023-10-18T21:25:03.177925Z",
     "iopub.status.busy": "2023-10-18T21:25:03.177526Z",
     "iopub.status.idle": "2023-10-18T21:25:03.189583Z",
     "shell.execute_reply": "2023-10-18T21:25:03.188427Z"
    },
    "papermill": {
     "duration": 0.028087,
     "end_time": "2023-10-18T21:25:03.191841",
     "exception": false,
     "start_time": "2023-10-18T21:25:03.163754",
     "status": "completed"
    },
    "tags": []
   },
   "outputs": [
    {
     "name": "stdout",
     "output_type": "stream",
     "text": [
      "RMSE:  0.8750275995287342\n"
     ]
    }
   ],
   "source": [
    "# Score if we had used the mean for each Pclass\n",
    "pclass_means = y_age_train.groupby(X_age_train['Pclass']).mean()\n",
    "y_age_pred = X_age_test['Pclass'].map(pclass_means)\n",
    "\n",
    "print('RMSE: ', np.sqrt(mean_squared_error(y_age_test, y_age_pred)))"
   ]
  },
  {
   "cell_type": "code",
   "execution_count": 19,
   "id": "1dd0230a",
   "metadata": {
    "execution": {
     "iopub.execute_input": "2023-10-18T21:25:03.218574Z",
     "iopub.status.busy": "2023-10-18T21:25:03.218185Z",
     "iopub.status.idle": "2023-10-18T21:25:03.226665Z",
     "shell.execute_reply": "2023-10-18T21:25:03.225913Z"
    },
    "papermill": {
     "duration": 0.025216,
     "end_time": "2023-10-18T21:25:03.229480",
     "exception": false,
     "start_time": "2023-10-18T21:25:03.204264",
     "status": "completed"
    },
    "tags": []
   },
   "outputs": [
    {
     "name": "stdout",
     "output_type": "stream",
     "text": [
      "RMSE:  0.8693746849880378\n"
     ]
    }
   ],
   "source": [
    "# Score if we had used the median for each Pclass\n",
    "pclass_medians = y_age_train.groupby(X_age_train['Pclass']).median()\n",
    "y_age_pred = X_age_test['Pclass'].map(pclass_medians)\n",
    "\n",
    "print('RMSE: ', np.sqrt(mean_squared_error(y_age_test, y_age_pred)))"
   ]
  },
  {
   "cell_type": "markdown",
   "id": "7e509caf",
   "metadata": {
    "papermill": {
     "duration": 0.012899,
     "end_time": "2023-10-18T21:25:03.255688",
     "exception": false,
     "start_time": "2023-10-18T21:25:03.242789",
     "status": "completed"
    },
    "tags": []
   },
   "source": [
    "The random forest model with hyperparameters `n_estimators=50, max_depth=4` seems to be the best model for predicting the age. We will use this model to predict the missing age values."
   ]
  },
  {
   "cell_type": "code",
   "execution_count": 20,
   "id": "509f2620",
   "metadata": {
    "execution": {
     "iopub.execute_input": "2023-10-18T21:25:03.282787Z",
     "iopub.status.busy": "2023-10-18T21:25:03.282409Z",
     "iopub.status.idle": "2023-10-18T21:25:03.369232Z",
     "shell.execute_reply": "2023-10-18T21:25:03.367397Z"
    },
    "papermill": {
     "duration": 0.103134,
     "end_time": "2023-10-18T21:25:03.371671",
     "exception": false,
     "start_time": "2023-10-18T21:25:03.268537",
     "status": "completed"
    },
    "tags": []
   },
   "outputs": [],
   "source": [
    "# Train random forest model on all data\n",
    "age_model = age_model_2.fit(X_age, y_age)\n",
    "\n",
    "# Predict missing ages\n",
    "missing_age = X[X['Age'].isnull()]\n",
    "X_missing_age = missing_age[['Pclass', 'Parch', 'SibSp']]\n",
    "y_missing_age = age_model.predict(X_missing_age)\n",
    "\n",
    "# Replace missing ages with predicted ages\n",
    "X.loc[X['Age'].isnull(), 'Age'] = y_missing_age"
   ]
  },
  {
   "cell_type": "code",
   "execution_count": 21,
   "id": "5c66434e",
   "metadata": {
    "execution": {
     "iopub.execute_input": "2023-10-18T21:25:03.400464Z",
     "iopub.status.busy": "2023-10-18T21:25:03.400111Z",
     "iopub.status.idle": "2023-10-18T21:25:03.434372Z",
     "shell.execute_reply": "2023-10-18T21:25:03.432932Z"
    },
    "papermill": {
     "duration": 0.051894,
     "end_time": "2023-10-18T21:25:03.436747",
     "exception": false,
     "start_time": "2023-10-18T21:25:03.384853",
     "status": "completed"
    },
    "tags": []
   },
   "outputs": [
    {
     "data": {
      "text/html": [
       "<div>\n",
       "<style scoped>\n",
       "    .dataframe tbody tr th:only-of-type {\n",
       "        vertical-align: middle;\n",
       "    }\n",
       "\n",
       "    .dataframe tbody tr th {\n",
       "        vertical-align: top;\n",
       "    }\n",
       "\n",
       "    .dataframe thead th {\n",
       "        text-align: right;\n",
       "    }\n",
       "</style>\n",
       "<table border=\"1\" class=\"dataframe\">\n",
       "  <thead>\n",
       "    <tr style=\"text-align: right;\">\n",
       "      <th></th>\n",
       "      <th>Pclass</th>\n",
       "      <th>Sex</th>\n",
       "      <th>Age</th>\n",
       "      <th>SibSp</th>\n",
       "      <th>Parch</th>\n",
       "      <th>Fare</th>\n",
       "      <th>Embarked_C</th>\n",
       "      <th>Embarked_Q</th>\n",
       "      <th>Embarked_S</th>\n",
       "    </tr>\n",
       "  </thead>\n",
       "  <tbody>\n",
       "    <tr>\n",
       "      <th>count</th>\n",
       "      <td>8.910000e+02</td>\n",
       "      <td>8.910000e+02</td>\n",
       "      <td>891.000000</td>\n",
       "      <td>8.910000e+02</td>\n",
       "      <td>8.910000e+02</td>\n",
       "      <td>8.910000e+02</td>\n",
       "      <td>8.910000e+02</td>\n",
       "      <td>891.000000</td>\n",
       "      <td>8.910000e+02</td>\n",
       "    </tr>\n",
       "    <tr>\n",
       "      <th>mean</th>\n",
       "      <td>-8.772133e-17</td>\n",
       "      <td>3.987333e-17</td>\n",
       "      <td>-0.014752</td>\n",
       "      <td>4.386066e-17</td>\n",
       "      <td>5.382900e-17</td>\n",
       "      <td>3.987333e-18</td>\n",
       "      <td>-1.993666e-17</td>\n",
       "      <td>0.000000</td>\n",
       "      <td>-4.984166e-17</td>\n",
       "    </tr>\n",
       "    <tr>\n",
       "      <th>std</th>\n",
       "      <td>1.000562e+00</td>\n",
       "      <td>1.000562e+00</td>\n",
       "      <td>0.923889</td>\n",
       "      <td>1.000562e+00</td>\n",
       "      <td>1.000562e+00</td>\n",
       "      <td>1.000562e+00</td>\n",
       "      <td>1.000562e+00</td>\n",
       "      <td>1.000562</td>\n",
       "      <td>1.000562e+00</td>\n",
       "    </tr>\n",
       "    <tr>\n",
       "      <th>min</th>\n",
       "      <td>-1.566107e+00</td>\n",
       "      <td>-7.376951e-01</td>\n",
       "      <td>-2.016979</td>\n",
       "      <td>-4.745452e-01</td>\n",
       "      <td>-4.736736e-01</td>\n",
       "      <td>-6.484217e-01</td>\n",
       "      <td>-4.820427e-01</td>\n",
       "      <td>-0.307562</td>\n",
       "      <td>-1.614710e+00</td>\n",
       "    </tr>\n",
       "    <tr>\n",
       "      <th>25%</th>\n",
       "      <td>-3.693648e-01</td>\n",
       "      <td>-7.376951e-01</td>\n",
       "      <td>-0.564821</td>\n",
       "      <td>-4.745452e-01</td>\n",
       "      <td>-4.736736e-01</td>\n",
       "      <td>-4.891482e-01</td>\n",
       "      <td>-4.820427e-01</td>\n",
       "      <td>-0.307562</td>\n",
       "      <td>-1.614710e+00</td>\n",
       "    </tr>\n",
       "    <tr>\n",
       "      <th>50%</th>\n",
       "      <td>8.273772e-01</td>\n",
       "      <td>-7.376951e-01</td>\n",
       "      <td>-0.118068</td>\n",
       "      <td>-4.745452e-01</td>\n",
       "      <td>-4.736736e-01</td>\n",
       "      <td>-3.573909e-01</td>\n",
       "      <td>-4.820427e-01</td>\n",
       "      <td>-0.307562</td>\n",
       "      <td>6.193064e-01</td>\n",
       "    </tr>\n",
       "    <tr>\n",
       "      <th>75%</th>\n",
       "      <td>8.273772e-01</td>\n",
       "      <td>1.355574e+00</td>\n",
       "      <td>0.502943</td>\n",
       "      <td>4.327934e-01</td>\n",
       "      <td>-4.736736e-01</td>\n",
       "      <td>-2.424635e-02</td>\n",
       "      <td>-4.820427e-01</td>\n",
       "      <td>-0.307562</td>\n",
       "      <td>6.193064e-01</td>\n",
       "    </tr>\n",
       "    <tr>\n",
       "      <th>max</th>\n",
       "      <td>8.273772e-01</td>\n",
       "      <td>1.355574e+00</td>\n",
       "      <td>3.465126</td>\n",
       "      <td>6.784163e+00</td>\n",
       "      <td>6.974147e+00</td>\n",
       "      <td>9.667167e+00</td>\n",
       "      <td>2.074505e+00</td>\n",
       "      <td>3.251373</td>\n",
       "      <td>6.193064e-01</td>\n",
       "    </tr>\n",
       "  </tbody>\n",
       "</table>\n",
       "</div>"
      ],
      "text/plain": [
       "             Pclass           Sex         Age         SibSp         Parch  \\\n",
       "count  8.910000e+02  8.910000e+02  891.000000  8.910000e+02  8.910000e+02   \n",
       "mean  -8.772133e-17  3.987333e-17   -0.014752  4.386066e-17  5.382900e-17   \n",
       "std    1.000562e+00  1.000562e+00    0.923889  1.000562e+00  1.000562e+00   \n",
       "min   -1.566107e+00 -7.376951e-01   -2.016979 -4.745452e-01 -4.736736e-01   \n",
       "25%   -3.693648e-01 -7.376951e-01   -0.564821 -4.745452e-01 -4.736736e-01   \n",
       "50%    8.273772e-01 -7.376951e-01   -0.118068 -4.745452e-01 -4.736736e-01   \n",
       "75%    8.273772e-01  1.355574e+00    0.502943  4.327934e-01 -4.736736e-01   \n",
       "max    8.273772e-01  1.355574e+00    3.465126  6.784163e+00  6.974147e+00   \n",
       "\n",
       "               Fare    Embarked_C  Embarked_Q    Embarked_S  \n",
       "count  8.910000e+02  8.910000e+02  891.000000  8.910000e+02  \n",
       "mean   3.987333e-18 -1.993666e-17    0.000000 -4.984166e-17  \n",
       "std    1.000562e+00  1.000562e+00    1.000562  1.000562e+00  \n",
       "min   -6.484217e-01 -4.820427e-01   -0.307562 -1.614710e+00  \n",
       "25%   -4.891482e-01 -4.820427e-01   -0.307562 -1.614710e+00  \n",
       "50%   -3.573909e-01 -4.820427e-01   -0.307562  6.193064e-01  \n",
       "75%   -2.424635e-02 -4.820427e-01   -0.307562  6.193064e-01  \n",
       "max    9.667167e+00  2.074505e+00    3.251373  6.193064e-01  "
      ]
     },
     "execution_count": 21,
     "metadata": {},
     "output_type": "execute_result"
    }
   ],
   "source": [
    "X.describe()"
   ]
  },
  {
   "cell_type": "code",
   "execution_count": 22,
   "id": "3002e6eb",
   "metadata": {
    "execution": {
     "iopub.execute_input": "2023-10-18T21:25:03.464587Z",
     "iopub.status.busy": "2023-10-18T21:25:03.463874Z",
     "iopub.status.idle": "2023-10-18T21:25:04.066002Z",
     "shell.execute_reply": "2023-10-18T21:25:04.065188Z"
    },
    "papermill": {
     "duration": 0.618115,
     "end_time": "2023-10-18T21:25:04.067845",
     "exception": false,
     "start_time": "2023-10-18T21:25:03.449730",
     "status": "completed"
    },
    "tags": []
   },
   "outputs": [
    {
     "data": {
      "image/png": "[encoded data removed]",
      "text/plain": [
       "<Figure size 1000x1000 with 2 Axes>"
      ]
     },
     "metadata": {},
     "output_type": "display_data"
    }
   ],
   "source": [
    "# Display the correlation heatmap (absolute values)\n",
    "plt.figure(figsize=(10, 10))\n",
    "sns.heatmap(X.corr().abs(), annot=True)\n",
    "plt.show()"
   ]
  },
  {
   "cell_type": "markdown",
   "id": "4a670725",
   "metadata": {
    "papermill": {
     "duration": 0.014616,
     "end_time": "2023-10-18T21:25:04.098646",
     "exception": false,
     "start_time": "2023-10-18T21:25:04.084030",
     "status": "completed"
    },
    "tags": []
   },
   "source": [
    "## Selecting model to predict survival\n",
    "We will use the following models to predict survival and select the best model and tune the hyperparameters for the model.\n",
    "* Logistic Regression \n",
    "* Random Forest\n",
    "* Support Vector Machine (SVC and LinearSVC)\n",
    "* K-Nearest Neighbors\n",
    "* Naive Bayes"
   ]
  },
  {
   "cell_type": "code",
   "execution_count": 23,
   "id": "1de63e7d",
   "metadata": {
    "execution": {
     "iopub.execute_input": "2023-10-18T21:25:04.130128Z",
     "iopub.status.busy": "2023-10-18T21:25:04.129398Z",
     "iopub.status.idle": "2023-10-18T21:25:04.135289Z",
     "shell.execute_reply": "2023-10-18T21:25:04.134265Z"
    },
    "papermill": {
     "duration": 0.024789,
     "end_time": "2023-10-18T21:25:04.138339",
     "exception": false,
     "start_time": "2023-10-18T21:25:04.113550",
     "status": "completed"
    },
    "tags": []
   },
   "outputs": [],
   "source": [
    "# Split the data\n",
    "X_train, X_test, y_train, y_test = train_test_split(X, y, test_size=0.2, random_state=42)"
   ]
  },
  {
   "cell_type": "code",
   "execution_count": 24,
   "id": "9e747133",
   "metadata": {
    "execution": {
     "iopub.execute_input": "2023-10-18T21:25:04.171883Z",
     "iopub.status.busy": "2023-10-18T21:25:04.171238Z",
     "iopub.status.idle": "2023-10-18T21:25:04.750001Z",
     "shell.execute_reply": "2023-10-18T21:25:04.748799Z"
    },
    "papermill": {
     "duration": 0.597756,
     "end_time": "2023-10-18T21:25:04.752524",
     "exception": false,
     "start_time": "2023-10-18T21:25:04.154768",
     "status": "completed"
    },
    "tags": []
   },
   "outputs": [
    {
     "name": "stdout",
     "output_type": "stream",
     "text": [
      "Tuned Logistic Regression Parameters: {'C': 0.1, 'penalty': 'l2'}\n",
      "Best score is 0.7948980596867921\n"
     ]
    }
   ],
   "source": [
    "# Train Logistic Regression model and perform hyperparameter tuning with GridSearchCV\n",
    "survival_model_1 = LogisticRegression(solver='liblinear', random_state=42)\n",
    "\n",
    "param_grid = {'C': [0.001, 0.01, 0.1, 1, 10, 100],\n",
    "              'penalty': ['l1', 'l2']}\n",
    "\n",
    "survival_model_1_cv = GridSearchCV(survival_model_1, param_grid, cv=5)\n",
    "\n",
    "survival_model_1_cv.fit(X_train, y_train)\n",
    "\n",
    "print(\"Tuned Logistic Regression Parameters: {}\".format(survival_model_1_cv.best_params_))\n",
    "print(\"Best score is {}\".format(survival_model_1_cv.best_score_))\n"
   ]
  },
  {
   "cell_type": "code",
   "execution_count": 25,
   "id": "b7ff2f6f",
   "metadata": {
    "execution": {
     "iopub.execute_input": "2023-10-18T21:25:04.784427Z",
     "iopub.status.busy": "2023-10-18T21:25:04.784058Z",
     "iopub.status.idle": "2023-10-18T21:27:06.102328Z",
     "shell.execute_reply": "2023-10-18T21:27:06.101170Z"
    },
    "papermill": {
     "duration": 121.35162,
     "end_time": "2023-10-18T21:27:06.119010",
     "exception": false,
     "start_time": "2023-10-18T21:25:04.767390",
     "status": "completed"
    },
    "tags": []
   },
   "outputs": [
    {
     "name": "stdout",
     "output_type": "stream",
     "text": [
      "Tuned Random Forest Parameters: {'max_depth': 4, 'n_estimators': 100}\n",
      "Best score is 0.4394287818861632\n"
     ]
    }
   ],
   "source": [
    "# Train Random Forest model and perform hyperparameter tuning with GridSearchCV\n",
    "survival_model_2 = RandomForestRegressor(random_state=42)\n",
    "\n",
    "param_grid = {'n_estimators': [50, 100, 200, 300, 400, 500],\n",
    "                'max_depth': [2, 3, 4, 5, 6, 7, 8, 9, 10]}\n",
    "\n",
    "survival_model_2_cv = GridSearchCV(survival_model_2, param_grid, cv=5)\n",
    "\n",
    "survival_model_2_cv.fit(X_train, y_train)\n",
    "\n",
    "print(\"Tuned Random Forest Parameters: {}\".format(survival_model_2_cv.best_params_))\n",
    "print(\"Best score is {}\".format(survival_model_2_cv.best_score_))"
   ]
  },
  {
   "cell_type": "code",
   "execution_count": 26,
   "id": "f0e352d9",
   "metadata": {
    "execution": {
     "iopub.execute_input": "2023-10-18T21:27:06.148852Z",
     "iopub.status.busy": "2023-10-18T21:27:06.148374Z",
     "iopub.status.idle": "2023-10-18T21:27:10.273726Z",
     "shell.execute_reply": "2023-10-18T21:27:10.272245Z"
    },
    "papermill": {
     "duration": 4.143357,
     "end_time": "2023-10-18T21:27:10.276349",
     "exception": false,
     "start_time": "2023-10-18T21:27:06.132992",
     "status": "completed"
    },
    "tags": []
   },
   "outputs": [
    {
     "name": "stdout",
     "output_type": "stream",
     "text": [
      "Tuned SVC Parameters: {'C': 10, 'gamma': 0.1}\n",
      "Best score is 0.8244459765586527\n"
     ]
    }
   ],
   "source": [
    "# Train SVC model and perform hyperparameter tuning with GridSearchCV\n",
    "survival_model_3 = SVC(random_state=42)\n",
    "\n",
    "param_grid = {'C': [0.001, 0.01, 0.1, 1, 10, 100],\n",
    "                'gamma': [0.001, 0.01, 0.1, 1, 10, 100]}\n",
    "\n",
    "survival_model_3_cv = GridSearchCV(survival_model_3, param_grid, cv=5)\n",
    "\n",
    "survival_model_3_cv.fit(X_train, y_train)\n",
    "\n",
    "print(\"Tuned SVC Parameters: {}\".format(survival_model_3_cv.best_params_))\n",
    "print(\"Best score is {}\".format(survival_model_3_cv.best_score_))"
   ]
  },
  {
   "cell_type": "code",
   "execution_count": 27,
   "id": "568557ca",
   "metadata": {
    "execution": {
     "iopub.execute_input": "2023-10-18T21:27:10.315249Z",
     "iopub.status.busy": "2023-10-18T21:27:10.314786Z",
     "iopub.status.idle": "2023-10-18T21:27:11.248734Z",
     "shell.execute_reply": "2023-10-18T21:27:11.247511Z"
    },
    "papermill": {
     "duration": 0.954566,
     "end_time": "2023-10-18T21:27:11.251307",
     "exception": false,
     "start_time": "2023-10-18T21:27:10.296741",
     "status": "completed"
    },
    "tags": []
   },
   "outputs": [
    {
     "name": "stdout",
     "output_type": "stream",
     "text": [
      "Tuned KNN Parameters: {'n_neighbors': 8, 'weights': 'uniform'}\n",
      "Best score is 0.8201812272234807\n"
     ]
    }
   ],
   "source": [
    "# Train KNN model and perform hyperparameter tuning with GridSearchCV\n",
    "survival_model_4 = KNeighborsClassifier()\n",
    "\n",
    "param_grid = {'n_neighbors': [1, 2, 3, 4, 5, 6, 7, 8, 9],\n",
    "                'weights': ['uniform', 'distance']}\n",
    "\n",
    "survival_model_4_cv = GridSearchCV(survival_model_4, param_grid, cv=5)\n",
    "\n",
    "survival_model_4_cv.fit(X_train, y_train)\n",
    "\n",
    "print(\"Tuned KNN Parameters: {}\".format(survival_model_4_cv.best_params_))\n",
    "print(\"Best score is {}\".format(survival_model_4_cv.best_score_))"
   ]
  },
  {
   "cell_type": "code",
   "execution_count": 28,
   "id": "44400c67",
   "metadata": {
    "execution": {
     "iopub.execute_input": "2023-10-18T21:27:11.285228Z",
     "iopub.status.busy": "2023-10-18T21:27:11.284770Z",
     "iopub.status.idle": "2023-10-18T21:27:13.504415Z",
     "shell.execute_reply": "2023-10-18T21:27:13.503170Z"
    },
    "papermill": {
     "duration": 2.23955,
     "end_time": "2023-10-18T21:27:13.507065",
     "exception": false,
     "start_time": "2023-10-18T21:27:11.267515",
     "status": "completed"
    },
    "tags": []
   },
   "outputs": [
    {
     "name": "stdout",
     "output_type": "stream",
     "text": [
      "Tuned Naive Bayes Parameters: {'var_smoothing': 0.2848035868435802}\n",
      "Best score is 0.7836698512754852\n"
     ]
    }
   ],
   "source": [
    "# Train Naive Bayes model and perform hyperparameter tuning with GridSearchCV\n",
    "survival_model_5 = GaussianNB()\n",
    "\n",
    "param_grid = {'var_smoothing': np.logspace(0,-9, num=100)}\n",
    "\n",
    "survival_model_5_cv = GridSearchCV(survival_model_5, param_grid, cv=5)\n",
    "\n",
    "survival_model_5_cv.fit(X_train, y_train)\n",
    "\n",
    "print(\"Tuned Naive Bayes Parameters: {}\".format(survival_model_5_cv.best_params_))\n",
    "print(\"Best score is {}\".format(survival_model_5_cv.best_score_))"
   ]
  },
  {
   "cell_type": "code",
   "execution_count": 29,
   "id": "cd76dac5",
   "metadata": {
    "execution": {
     "iopub.execute_input": "2023-10-18T21:27:13.537964Z",
     "iopub.status.busy": "2023-10-18T21:27:13.537603Z",
     "iopub.status.idle": "2023-10-18T21:27:13.779175Z",
     "shell.execute_reply": "2023-10-18T21:27:13.777716Z"
    },
    "papermill": {
     "duration": 0.259867,
     "end_time": "2023-10-18T21:27:13.781519",
     "exception": false,
     "start_time": "2023-10-18T21:27:13.521652",
     "status": "completed"
    },
    "tags": []
   },
   "outputs": [
    {
     "name": "stdout",
     "output_type": "stream",
     "text": [
      "Logistic Regression score: 0.7932960893854749\n",
      "Random Forest score: 0.4316248309780396\n",
      "SVC score: 0.8212290502793296\n",
      "KNN score: 0.8044692737430168\n",
      "Naive Bayes score: 0.7877094972067039\n"
     ]
    }
   ],
   "source": [
    "# Train all models with best parameters and compare their scores on the test set\n",
    "survival_model_1 = LogisticRegression(C=0.1, penalty='l2', solver='liblinear', random_state=42)\n",
    "survival_model_1.fit(X_train, y_train)\n",
    "print('Logistic Regression score: {}'.format(survival_model_1.score(X_test, y_test)))\n",
    "\n",
    "survival_model_2 = RandomForestRegressor(n_estimators=100, max_depth=4, random_state=42)\n",
    "survival_model_2.fit(X_train, y_train)\n",
    "print('Random Forest score: {}'.format(survival_model_2.score(X_test, y_test)))\n",
    "\n",
    "survival_model_3 = SVC(C=10, gamma=0.1, random_state=42)\n",
    "survival_model_3.fit(X_train, y_train)\n",
    "print('SVC score: {}'.format(survival_model_3.score(X_test, y_test)))\n",
    "\n",
    "survival_model_5 = KNeighborsClassifier(n_neighbors=8, weights='uniform')\n",
    "survival_model_5.fit(X_train, y_train)\n",
    "print('KNN score: {}'.format(survival_model_5.score(X_test, y_test)))\n",
    "\n",
    "survival_model_5 = GaussianNB(var_smoothing=0.2848035868435802)\n",
    "survival_model_5.fit(X_train, y_train)\n",
    "print('Naive Bayes score: {}'.format(survival_model_5.score(X_test, y_test)))"
   ]
  },
  {
   "cell_type": "markdown",
   "id": "4481a7ab",
   "metadata": {
    "papermill": {
     "duration": 0.014726,
     "end_time": "2023-10-18T21:27:13.811344",
     "exception": false,
     "start_time": "2023-10-18T21:27:13.796618",
     "status": "completed"
    },
    "tags": []
   },
   "source": [
    "The SVC appears to have the best score from among the models. We will use this model to predict the survival of the passengers. Let's see the confusion matrix and the classification report for the model."
   ]
  },
  {
   "cell_type": "code",
   "execution_count": 30,
   "id": "9405cf46",
   "metadata": {
    "execution": {
     "iopub.execute_input": "2023-10-18T21:27:13.848079Z",
     "iopub.status.busy": "2023-10-18T21:27:13.847359Z",
     "iopub.status.idle": "2023-10-18T21:27:13.860190Z",
     "shell.execute_reply": "2023-10-18T21:27:13.859047Z"
    },
    "papermill": {
     "duration": 0.035805,
     "end_time": "2023-10-18T21:27:13.862514",
     "exception": false,
     "start_time": "2023-10-18T21:27:13.826709",
     "status": "completed"
    },
    "tags": []
   },
   "outputs": [
    {
     "data": {
      "text/plain": [
       "array([[96,  9],\n",
       "       [23, 51]])"
      ]
     },
     "execution_count": 30,
     "metadata": {},
     "output_type": "execute_result"
    }
   ],
   "source": [
    "# Display confusion matrix for SVC model\n",
    "y_pred = survival_model_3.predict(X_test)\n",
    "confusion_matrix(y_test, y_pred)"
   ]
  },
  {
   "cell_type": "code",
   "execution_count": 31,
   "id": "148135f2",
   "metadata": {
    "execution": {
     "iopub.execute_input": "2023-10-18T21:27:13.894364Z",
     "iopub.status.busy": "2023-10-18T21:27:13.893974Z",
     "iopub.status.idle": "2023-10-18T21:27:13.906658Z",
     "shell.execute_reply": "2023-10-18T21:27:13.905470Z"
    },
    "papermill": {
     "duration": 0.031171,
     "end_time": "2023-10-18T21:27:13.908992",
     "exception": false,
     "start_time": "2023-10-18T21:27:13.877821",
     "status": "completed"
    },
    "tags": []
   },
   "outputs": [
    {
     "name": "stdout",
     "output_type": "stream",
     "text": [
      "              precision    recall  f1-score   support\n",
      "\n",
      "           0       0.81      0.91      0.86       105\n",
      "           1       0.85      0.69      0.76        74\n",
      "\n",
      "    accuracy                           0.82       179\n",
      "   macro avg       0.83      0.80      0.81       179\n",
      "weighted avg       0.82      0.82      0.82       179\n",
      "\n"
     ]
    }
   ],
   "source": [
    "# Display classification report for SVC model\n",
    "print(classification_report(y_test, y_pred))"
   ]
  },
  {
   "cell_type": "markdown",
   "id": "ef099a3d",
   "metadata": {
    "papermill": {
     "duration": 0.014904,
     "end_time": "2023-10-18T21:27:13.939271",
     "exception": false,
     "start_time": "2023-10-18T21:27:13.924367",
     "status": "completed"
    },
    "tags": []
   },
   "source": [
    "## Training the model over the entire dataset"
   ]
  },
  {
   "cell_type": "code",
   "execution_count": 32,
   "id": "b9726720",
   "metadata": {
    "execution": {
     "iopub.execute_input": "2023-10-18T21:27:13.971835Z",
     "iopub.status.busy": "2023-10-18T21:27:13.971448Z",
     "iopub.status.idle": "2023-10-18T21:27:14.006721Z",
     "shell.execute_reply": "2023-10-18T21:27:14.005476Z"
    },
    "papermill": {
     "duration": 0.054739,
     "end_time": "2023-10-18T21:27:14.009547",
     "exception": false,
     "start_time": "2023-10-18T21:27:13.954808",
     "status": "completed"
    },
    "tags": []
   },
   "outputs": [],
   "source": [
    "survival_model = survival_model_3.fit(X, y)"
   ]
  },
  {
   "cell_type": "markdown",
   "id": "fda60fdc",
   "metadata": {
    "papermill": {
     "duration": 0.015957,
     "end_time": "2023-10-18T21:27:14.041701",
     "exception": false,
     "start_time": "2023-10-18T21:27:14.025744",
     "status": "completed"
    },
    "tags": []
   },
   "source": [
    "## Generating the predictions for the test set"
   ]
  },
  {
   "cell_type": "code",
   "execution_count": 33,
   "id": "cbdad220",
   "metadata": {
    "execution": {
     "iopub.execute_input": "2023-10-18T21:27:14.073294Z",
     "iopub.status.busy": "2023-10-18T21:27:14.072902Z",
     "iopub.status.idle": "2023-10-18T21:27:14.096424Z",
     "shell.execute_reply": "2023-10-18T21:27:14.095312Z"
    },
    "papermill": {
     "duration": 0.0418,
     "end_time": "2023-10-18T21:27:14.098662",
     "exception": false,
     "start_time": "2023-10-18T21:27:14.056862",
     "status": "completed"
    },
    "tags": []
   },
   "outputs": [
    {
     "data": {
      "text/html": [
       "<div>\n",
       "<style scoped>\n",
       "    .dataframe tbody tr th:only-of-type {\n",
       "        vertical-align: middle;\n",
       "    }\n",
       "\n",
       "    .dataframe tbody tr th {\n",
       "        vertical-align: top;\n",
       "    }\n",
       "\n",
       "    .dataframe thead th {\n",
       "        text-align: right;\n",
       "    }\n",
       "</style>\n",
       "<table border=\"1\" class=\"dataframe\">\n",
       "  <thead>\n",
       "    <tr style=\"text-align: right;\">\n",
       "      <th></th>\n",
       "      <th>Pclass</th>\n",
       "      <th>Name</th>\n",
       "      <th>Sex</th>\n",
       "      <th>Age</th>\n",
       "      <th>SibSp</th>\n",
       "      <th>Parch</th>\n",
       "      <th>Ticket</th>\n",
       "      <th>Fare</th>\n",
       "      <th>Cabin</th>\n",
       "      <th>Embarked</th>\n",
       "    </tr>\n",
       "    <tr>\n",
       "      <th>PassengerId</th>\n",
       "      <th></th>\n",
       "      <th></th>\n",
       "      <th></th>\n",
       "      <th></th>\n",
       "      <th></th>\n",
       "      <th></th>\n",
       "      <th></th>\n",
       "      <th></th>\n",
       "      <th></th>\n",
       "      <th></th>\n",
       "    </tr>\n",
       "  </thead>\n",
       "  <tbody>\n",
       "    <tr>\n",
       "      <th>892</th>\n",
       "      <td>3</td>\n",
       "      <td>Kelly, Mr. James</td>\n",
       "      <td>male</td>\n",
       "      <td>34.5</td>\n",
       "      <td>0</td>\n",
       "      <td>0</td>\n",
       "      <td>330911</td>\n",
       "      <td>7.8292</td>\n",
       "      <td>NaN</td>\n",
       "      <td>Q</td>\n",
       "    </tr>\n",
       "    <tr>\n",
       "      <th>893</th>\n",
       "      <td>3</td>\n",
       "      <td>Wilkes, Mrs. James (Ellen Needs)</td>\n",
       "      <td>female</td>\n",
       "      <td>47.0</td>\n",
       "      <td>1</td>\n",
       "      <td>0</td>\n",
       "      <td>363272</td>\n",
       "      <td>7.0000</td>\n",
       "      <td>NaN</td>\n",
       "      <td>S</td>\n",
       "    </tr>\n",
       "    <tr>\n",
       "      <th>894</th>\n",
       "      <td>2</td>\n",
       "      <td>Myles, Mr. Thomas Francis</td>\n",
       "      <td>male</td>\n",
       "      <td>62.0</td>\n",
       "      <td>0</td>\n",
       "      <td>0</td>\n",
       "      <td>240276</td>\n",
       "      <td>9.6875</td>\n",
       "      <td>NaN</td>\n",
       "      <td>Q</td>\n",
       "    </tr>\n",
       "    <tr>\n",
       "      <th>895</th>\n",
       "      <td>3</td>\n",
       "      <td>Wirz, Mr. Albert</td>\n",
       "      <td>male</td>\n",
       "      <td>27.0</td>\n",
       "      <td>0</td>\n",
       "      <td>0</td>\n",
       "      <td>315154</td>\n",
       "      <td>8.6625</td>\n",
       "      <td>NaN</td>\n",
       "      <td>S</td>\n",
       "    </tr>\n",
       "    <tr>\n",
       "      <th>896</th>\n",
       "      <td>3</td>\n",
       "      <td>Hirvonen, Mrs. Alexander (Helga E Lindqvist)</td>\n",
       "      <td>female</td>\n",
       "      <td>22.0</td>\n",
       "      <td>1</td>\n",
       "      <td>1</td>\n",
       "      <td>3101298</td>\n",
       "      <td>12.2875</td>\n",
       "      <td>NaN</td>\n",
       "      <td>S</td>\n",
       "    </tr>\n",
       "  </tbody>\n",
       "</table>\n",
       "</div>"
      ],
      "text/plain": [
       "             Pclass                                          Name     Sex  \\\n",
       "PassengerId                                                                 \n",
       "892               3                              Kelly, Mr. James    male   \n",
       "893               3              Wilkes, Mrs. James (Ellen Needs)  female   \n",
       "894               2                     Myles, Mr. Thomas Francis    male   \n",
       "895               3                              Wirz, Mr. Albert    male   \n",
       "896               3  Hirvonen, Mrs. Alexander (Helga E Lindqvist)  female   \n",
       "\n",
       "              Age  SibSp  Parch   Ticket     Fare Cabin Embarked  \n",
       "PassengerId                                                       \n",
       "892          34.5      0      0   330911   7.8292   NaN        Q  \n",
       "893          47.0      1      0   363272   7.0000   NaN        S  \n",
       "894          62.0      0      0   240276   9.6875   NaN        Q  \n",
       "895          27.0      0      0   315154   8.6625   NaN        S  \n",
       "896          22.0      1      1  3101298  12.2875   NaN        S  "
      ]
     },
     "metadata": {},
     "output_type": "display_data"
    }
   ],
   "source": [
    "test = pd.read_csv('/kaggle/input/titanic/test.csv', index_col='PassengerId')\n",
    "display(test.head())"
   ]
  },
  {
   "cell_type": "code",
   "execution_count": 34,
   "id": "1a8737fb",
   "metadata": {
    "execution": {
     "iopub.execute_input": "2023-10-18T21:27:14.131137Z",
     "iopub.status.busy": "2023-10-18T21:27:14.130754Z",
     "iopub.status.idle": "2023-10-18T21:27:14.143765Z",
     "shell.execute_reply": "2023-10-18T21:27:14.142594Z"
    },
    "papermill": {
     "duration": 0.031497,
     "end_time": "2023-10-18T21:27:14.145784",
     "exception": false,
     "start_time": "2023-10-18T21:27:14.114287",
     "status": "completed"
    },
    "tags": []
   },
   "outputs": [
    {
     "name": "stdout",
     "output_type": "stream",
     "text": [
      "<class 'pandas.core.frame.DataFrame'>\n",
      "Index: 418 entries, 892 to 1309\n",
      "Data columns (total 10 columns):\n",
      " #   Column    Non-Null Count  Dtype  \n",
      "---  ------    --------------  -----  \n",
      " 0   Pclass    418 non-null    int64  \n",
      " 1   Name      418 non-null    object \n",
      " 2   Sex       418 non-null    object \n",
      " 3   Age       332 non-null    float64\n",
      " 4   SibSp     418 non-null    int64  \n",
      " 5   Parch     418 non-null    int64  \n",
      " 6   Ticket    418 non-null    object \n",
      " 7   Fare      417 non-null    float64\n",
      " 8   Cabin     91 non-null     object \n",
      " 9   Embarked  418 non-null    object \n",
      "dtypes: float64(2), int64(3), object(5)\n",
      "memory usage: 35.9+ KB\n"
     ]
    }
   ],
   "source": [
    "test.info()\n"
   ]
  },
  {
   "cell_type": "code",
   "execution_count": 35,
   "id": "9141ac56",
   "metadata": {
    "execution": {
     "iopub.execute_input": "2023-10-18T21:27:14.178909Z",
     "iopub.status.busy": "2023-10-18T21:27:14.178541Z",
     "iopub.status.idle": "2023-10-18T21:27:14.215542Z",
     "shell.execute_reply": "2023-10-18T21:27:14.214383Z"
    },
    "papermill": {
     "duration": 0.055563,
     "end_time": "2023-10-18T21:27:14.217744",
     "exception": false,
     "start_time": "2023-10-18T21:27:14.162181",
     "status": "completed"
    },
    "tags": []
   },
   "outputs": [
    {
     "data": {
      "text/html": [
       "<div>\n",
       "<style scoped>\n",
       "    .dataframe tbody tr th:only-of-type {\n",
       "        vertical-align: middle;\n",
       "    }\n",
       "\n",
       "    .dataframe tbody tr th {\n",
       "        vertical-align: top;\n",
       "    }\n",
       "\n",
       "    .dataframe thead th {\n",
       "        text-align: right;\n",
       "    }\n",
       "</style>\n",
       "<table border=\"1\" class=\"dataframe\">\n",
       "  <thead>\n",
       "    <tr style=\"text-align: right;\">\n",
       "      <th></th>\n",
       "      <th>Pclass</th>\n",
       "      <th>Name</th>\n",
       "      <th>Sex</th>\n",
       "      <th>Age</th>\n",
       "      <th>SibSp</th>\n",
       "      <th>Parch</th>\n",
       "      <th>Ticket</th>\n",
       "      <th>Fare</th>\n",
       "      <th>Cabin</th>\n",
       "      <th>Embarked</th>\n",
       "    </tr>\n",
       "  </thead>\n",
       "  <tbody>\n",
       "    <tr>\n",
       "      <th>count</th>\n",
       "      <td>418.000000</td>\n",
       "      <td>418</td>\n",
       "      <td>418</td>\n",
       "      <td>332.000000</td>\n",
       "      <td>418.000000</td>\n",
       "      <td>418.000000</td>\n",
       "      <td>418</td>\n",
       "      <td>417.000000</td>\n",
       "      <td>91</td>\n",
       "      <td>418</td>\n",
       "    </tr>\n",
       "    <tr>\n",
       "      <th>unique</th>\n",
       "      <td>NaN</td>\n",
       "      <td>418</td>\n",
       "      <td>2</td>\n",
       "      <td>NaN</td>\n",
       "      <td>NaN</td>\n",
       "      <td>NaN</td>\n",
       "      <td>363</td>\n",
       "      <td>NaN</td>\n",
       "      <td>76</td>\n",
       "      <td>3</td>\n",
       "    </tr>\n",
       "    <tr>\n",
       "      <th>top</th>\n",
       "      <td>NaN</td>\n",
       "      <td>Kelly, Mr. James</td>\n",
       "      <td>male</td>\n",
       "      <td>NaN</td>\n",
       "      <td>NaN</td>\n",
       "      <td>NaN</td>\n",
       "      <td>PC 17608</td>\n",
       "      <td>NaN</td>\n",
       "      <td>B57 B59 B63 B66</td>\n",
       "      <td>S</td>\n",
       "    </tr>\n",
       "    <tr>\n",
       "      <th>freq</th>\n",
       "      <td>NaN</td>\n",
       "      <td>1</td>\n",
       "      <td>266</td>\n",
       "      <td>NaN</td>\n",
       "      <td>NaN</td>\n",
       "      <td>NaN</td>\n",
       "      <td>5</td>\n",
       "      <td>NaN</td>\n",
       "      <td>3</td>\n",
       "      <td>270</td>\n",
       "    </tr>\n",
       "    <tr>\n",
       "      <th>mean</th>\n",
       "      <td>2.265550</td>\n",
       "      <td>NaN</td>\n",
       "      <td>NaN</td>\n",
       "      <td>30.272590</td>\n",
       "      <td>0.447368</td>\n",
       "      <td>0.392344</td>\n",
       "      <td>NaN</td>\n",
       "      <td>35.627188</td>\n",
       "      <td>NaN</td>\n",
       "      <td>NaN</td>\n",
       "    </tr>\n",
       "    <tr>\n",
       "      <th>std</th>\n",
       "      <td>0.841838</td>\n",
       "      <td>NaN</td>\n",
       "      <td>NaN</td>\n",
       "      <td>14.181209</td>\n",
       "      <td>0.896760</td>\n",
       "      <td>0.981429</td>\n",
       "      <td>NaN</td>\n",
       "      <td>55.907576</td>\n",
       "      <td>NaN</td>\n",
       "      <td>NaN</td>\n",
       "    </tr>\n",
       "    <tr>\n",
       "      <th>min</th>\n",
       "      <td>1.000000</td>\n",
       "      <td>NaN</td>\n",
       "      <td>NaN</td>\n",
       "      <td>0.170000</td>\n",
       "      <td>0.000000</td>\n",
       "      <td>0.000000</td>\n",
       "      <td>NaN</td>\n",
       "      <td>0.000000</td>\n",
       "      <td>NaN</td>\n",
       "      <td>NaN</td>\n",
       "    </tr>\n",
       "    <tr>\n",
       "      <th>25%</th>\n",
       "      <td>1.000000</td>\n",
       "      <td>NaN</td>\n",
       "      <td>NaN</td>\n",
       "      <td>21.000000</td>\n",
       "      <td>0.000000</td>\n",
       "      <td>0.000000</td>\n",
       "      <td>NaN</td>\n",
       "      <td>7.895800</td>\n",
       "      <td>NaN</td>\n",
       "      <td>NaN</td>\n",
       "    </tr>\n",
       "    <tr>\n",
       "      <th>50%</th>\n",
       "      <td>3.000000</td>\n",
       "      <td>NaN</td>\n",
       "      <td>NaN</td>\n",
       "      <td>27.000000</td>\n",
       "      <td>0.000000</td>\n",
       "      <td>0.000000</td>\n",
       "      <td>NaN</td>\n",
       "      <td>14.454200</td>\n",
       "      <td>NaN</td>\n",
       "      <td>NaN</td>\n",
       "    </tr>\n",
       "    <tr>\n",
       "      <th>75%</th>\n",
       "      <td>3.000000</td>\n",
       "      <td>NaN</td>\n",
       "      <td>NaN</td>\n",
       "      <td>39.000000</td>\n",
       "      <td>1.000000</td>\n",
       "      <td>0.000000</td>\n",
       "      <td>NaN</td>\n",
       "      <td>31.500000</td>\n",
       "      <td>NaN</td>\n",
       "      <td>NaN</td>\n",
       "    </tr>\n",
       "    <tr>\n",
       "      <th>max</th>\n",
       "      <td>3.000000</td>\n",
       "      <td>NaN</td>\n",
       "      <td>NaN</td>\n",
       "      <td>76.000000</td>\n",
       "      <td>8.000000</td>\n",
       "      <td>9.000000</td>\n",
       "      <td>NaN</td>\n",
       "      <td>512.329200</td>\n",
       "      <td>NaN</td>\n",
       "      <td>NaN</td>\n",
       "    </tr>\n",
       "  </tbody>\n",
       "</table>\n",
       "</div>"
      ],
      "text/plain": [
       "            Pclass              Name   Sex         Age       SibSp  \\\n",
       "count   418.000000               418   418  332.000000  418.000000   \n",
       "unique         NaN               418     2         NaN         NaN   \n",
       "top            NaN  Kelly, Mr. James  male         NaN         NaN   \n",
       "freq           NaN                 1   266         NaN         NaN   \n",
       "mean      2.265550               NaN   NaN   30.272590    0.447368   \n",
       "std       0.841838               NaN   NaN   14.181209    0.896760   \n",
       "min       1.000000               NaN   NaN    0.170000    0.000000   \n",
       "25%       1.000000               NaN   NaN   21.000000    0.000000   \n",
       "50%       3.000000               NaN   NaN   27.000000    0.000000   \n",
       "75%       3.000000               NaN   NaN   39.000000    1.000000   \n",
       "max       3.000000               NaN   NaN   76.000000    8.000000   \n",
       "\n",
       "             Parch    Ticket        Fare            Cabin Embarked  \n",
       "count   418.000000       418  417.000000               91      418  \n",
       "unique         NaN       363         NaN               76        3  \n",
       "top            NaN  PC 17608         NaN  B57 B59 B63 B66        S  \n",
       "freq           NaN         5         NaN                3      270  \n",
       "mean      0.392344       NaN   35.627188              NaN      NaN  \n",
       "std       0.981429       NaN   55.907576              NaN      NaN  \n",
       "min       0.000000       NaN    0.000000              NaN      NaN  \n",
       "25%       0.000000       NaN    7.895800              NaN      NaN  \n",
       "50%       0.000000       NaN   14.454200              NaN      NaN  \n",
       "75%       0.000000       NaN   31.500000              NaN      NaN  \n",
       "max       9.000000       NaN  512.329200              NaN      NaN  "
      ]
     },
     "execution_count": 35,
     "metadata": {},
     "output_type": "execute_result"
    }
   ],
   "source": [
    "test.describe(include='all')"
   ]
  },
  {
   "cell_type": "code",
   "execution_count": 36,
   "id": "a185b6db",
   "metadata": {
    "execution": {
     "iopub.execute_input": "2023-10-18T21:27:14.250504Z",
     "iopub.status.busy": "2023-10-18T21:27:14.250116Z",
     "iopub.status.idle": "2023-10-18T21:27:14.297761Z",
     "shell.execute_reply": "2023-10-18T21:27:14.296371Z"
    },
    "papermill": {
     "duration": 0.066793,
     "end_time": "2023-10-18T21:27:14.300086",
     "exception": false,
     "start_time": "2023-10-18T21:27:14.233293",
     "status": "completed"
    },
    "tags": []
   },
   "outputs": [
    {
     "data": {
      "text/html": [
       "<div>\n",
       "<style scoped>\n",
       "    .dataframe tbody tr th:only-of-type {\n",
       "        vertical-align: middle;\n",
       "    }\n",
       "\n",
       "    .dataframe tbody tr th {\n",
       "        vertical-align: top;\n",
       "    }\n",
       "\n",
       "    .dataframe thead th {\n",
       "        text-align: right;\n",
       "    }\n",
       "</style>\n",
       "<table border=\"1\" class=\"dataframe\">\n",
       "  <thead>\n",
       "    <tr style=\"text-align: right;\">\n",
       "      <th></th>\n",
       "      <th>Pclass</th>\n",
       "      <th>Sex</th>\n",
       "      <th>Age</th>\n",
       "      <th>SibSp</th>\n",
       "      <th>Parch</th>\n",
       "      <th>Fare</th>\n",
       "      <th>Embarked_C</th>\n",
       "      <th>Embarked_Q</th>\n",
       "      <th>Embarked_S</th>\n",
       "    </tr>\n",
       "  </thead>\n",
       "  <tbody>\n",
       "    <tr>\n",
       "      <th>count</th>\n",
       "      <td>418.000000</td>\n",
       "      <td>418.000000</td>\n",
       "      <td>418.000000</td>\n",
       "      <td>418.000000</td>\n",
       "      <td>418.000000</td>\n",
       "      <td>417.000000</td>\n",
       "      <td>418.000000</td>\n",
       "      <td>418.000000</td>\n",
       "      <td>418.000000</td>\n",
       "    </tr>\n",
       "    <tr>\n",
       "      <th>mean</th>\n",
       "      <td>-0.051570</td>\n",
       "      <td>0.023493</td>\n",
       "      <td>0.023098</td>\n",
       "      <td>-0.068631</td>\n",
       "      <td>0.013345</td>\n",
       "      <td>0.068921</td>\n",
       "      <td>0.141804</td>\n",
       "      <td>0.084091</td>\n",
       "      <td>-0.171685</td>\n",
       "    </tr>\n",
       "    <tr>\n",
       "      <th>std</th>\n",
       "      <td>1.007462</td>\n",
       "      <td>1.008165</td>\n",
       "      <td>0.886581</td>\n",
       "      <td>0.813665</td>\n",
       "      <td>1.218251</td>\n",
       "      <td>1.125682</td>\n",
       "      <td>1.099364</td>\n",
       "      <td>1.115101</td>\n",
       "      <td>1.069653</td>\n",
       "    </tr>\n",
       "    <tr>\n",
       "      <th>min</th>\n",
       "      <td>-1.566107</td>\n",
       "      <td>-0.737695</td>\n",
       "      <td>-2.034201</td>\n",
       "      <td>-0.474545</td>\n",
       "      <td>-0.473674</td>\n",
       "      <td>-0.648422</td>\n",
       "      <td>-0.482043</td>\n",
       "      <td>-0.307562</td>\n",
       "      <td>-1.614710</td>\n",
       "    </tr>\n",
       "    <tr>\n",
       "      <th>25%</th>\n",
       "      <td>-1.566107</td>\n",
       "      <td>-0.737695</td>\n",
       "      <td>-0.530377</td>\n",
       "      <td>-0.474545</td>\n",
       "      <td>-0.473674</td>\n",
       "      <td>-0.489442</td>\n",
       "      <td>-0.482043</td>\n",
       "      <td>-0.307562</td>\n",
       "      <td>-1.614710</td>\n",
       "    </tr>\n",
       "    <tr>\n",
       "      <th>50%</th>\n",
       "      <td>0.827377</td>\n",
       "      <td>-0.737695</td>\n",
       "      <td>-0.118068</td>\n",
       "      <td>-0.474545</td>\n",
       "      <td>-0.473674</td>\n",
       "      <td>-0.357391</td>\n",
       "      <td>-0.482043</td>\n",
       "      <td>-0.307562</td>\n",
       "      <td>0.619306</td>\n",
       "    </tr>\n",
       "    <tr>\n",
       "      <th>75%</th>\n",
       "      <td>0.827377</td>\n",
       "      <td>1.355574</td>\n",
       "      <td>0.502943</td>\n",
       "      <td>0.432793</td>\n",
       "      <td>-0.473674</td>\n",
       "      <td>-0.014179</td>\n",
       "      <td>-0.482043</td>\n",
       "      <td>-0.307562</td>\n",
       "      <td>0.619306</td>\n",
       "    </tr>\n",
       "    <tr>\n",
       "      <th>max</th>\n",
       "      <td>0.827377</td>\n",
       "      <td>1.355574</td>\n",
       "      <td>3.189574</td>\n",
       "      <td>6.784163</td>\n",
       "      <td>10.698058</td>\n",
       "      <td>9.667167</td>\n",
       "      <td>2.074505</td>\n",
       "      <td>3.251373</td>\n",
       "      <td>0.619306</td>\n",
       "    </tr>\n",
       "  </tbody>\n",
       "</table>\n",
       "</div>"
      ],
      "text/plain": [
       "           Pclass         Sex         Age       SibSp       Parch        Fare  \\\n",
       "count  418.000000  418.000000  418.000000  418.000000  418.000000  417.000000   \n",
       "mean    -0.051570    0.023493    0.023098   -0.068631    0.013345    0.068921   \n",
       "std      1.007462    1.008165    0.886581    0.813665    1.218251    1.125682   \n",
       "min     -1.566107   -0.737695   -2.034201   -0.474545   -0.473674   -0.648422   \n",
       "25%     -1.566107   -0.737695   -0.530377   -0.474545   -0.473674   -0.489442   \n",
       "50%      0.827377   -0.737695   -0.118068   -0.474545   -0.473674   -0.357391   \n",
       "75%      0.827377    1.355574    0.502943    0.432793   -0.473674   -0.014179   \n",
       "max      0.827377    1.355574    3.189574    6.784163   10.698058    9.667167   \n",
       "\n",
       "       Embarked_C  Embarked_Q  Embarked_S  \n",
       "count  418.000000  418.000000  418.000000  \n",
       "mean     0.141804    0.084091   -0.171685  \n",
       "std      1.099364    1.115101    1.069653  \n",
       "min     -0.482043   -0.307562   -1.614710  \n",
       "25%     -0.482043   -0.307562   -1.614710  \n",
       "50%     -0.482043   -0.307562    0.619306  \n",
       "75%     -0.482043   -0.307562    0.619306  \n",
       "max      2.074505    3.251373    0.619306  "
      ]
     },
     "execution_count": 36,
     "metadata": {},
     "output_type": "execute_result"
    }
   ],
   "source": [
    "# Apply the same transformations to the test data as we did to the training data\n",
    "\n",
    "# Drop Name, Ticket and Cabin\n",
    "test.drop(['Name', 'Ticket', 'Cabin'], axis=1, inplace=True)\n",
    "\n",
    "# One hot encoding for Embarked\n",
    "test = pd.get_dummies(test, columns=['Embarked'], dtype=np.int64)\n",
    "\n",
    "# Label sex as -1 for male and 1 for female\n",
    "test['Sex'].replace({'male': -1, 'female': 1}, inplace=True)\n",
    "\n",
    "# Scale the data using the same scaler as before\n",
    "Scaled = scaler.transform(test)\n",
    "test = pd.DataFrame(Scaled, columns=test.columns, index=test.index)\n",
    "\n",
    "# Predict missing ages using the age model we trained earlier\n",
    "missing_age = test[test['Age'].isnull()]\n",
    "X_missing_age = missing_age[['Pclass', 'Parch', 'SibSp']]\n",
    "y_missing_age = age_model.predict(X_missing_age)\n",
    "test.loc[test['Age'].isnull(), 'Age'] = y_missing_age\n",
    "\n",
    "\n",
    "test.describe()\n"
   ]
  },
  {
   "cell_type": "code",
   "execution_count": 37,
   "id": "c9a692ee",
   "metadata": {
    "execution": {
     "iopub.execute_input": "2023-10-18T21:27:14.332888Z",
     "iopub.status.busy": "2023-10-18T21:27:14.332485Z",
     "iopub.status.idle": "2023-10-18T21:27:14.344767Z",
     "shell.execute_reply": "2023-10-18T21:27:14.343577Z"
    },
    "papermill": {
     "duration": 0.031438,
     "end_time": "2023-10-18T21:27:14.347182",
     "exception": false,
     "start_time": "2023-10-18T21:27:14.315744",
     "status": "completed"
    },
    "tags": []
   },
   "outputs": [
    {
     "name": "stdout",
     "output_type": "stream",
     "text": [
      "<class 'pandas.core.frame.DataFrame'>\n",
      "Index: 418 entries, 892 to 1309\n",
      "Data columns (total 9 columns):\n",
      " #   Column      Non-Null Count  Dtype  \n",
      "---  ------      --------------  -----  \n",
      " 0   Pclass      418 non-null    float64\n",
      " 1   Sex         418 non-null    float64\n",
      " 2   Age         418 non-null    float64\n",
      " 3   SibSp       418 non-null    float64\n",
      " 4   Parch       418 non-null    float64\n",
      " 5   Fare        417 non-null    float64\n",
      " 6   Embarked_C  418 non-null    float64\n",
      " 7   Embarked_Q  418 non-null    float64\n",
      " 8   Embarked_S  418 non-null    float64\n",
      "dtypes: float64(9)\n",
      "memory usage: 32.7 KB\n"
     ]
    }
   ],
   "source": [
    "test.info()"
   ]
  },
  {
   "cell_type": "markdown",
   "id": "99e76d12",
   "metadata": {
    "papermill": {
     "duration": 0.016393,
     "end_time": "2023-10-18T21:27:14.380246",
     "exception": false,
     "start_time": "2023-10-18T21:27:14.363853",
     "status": "completed"
    },
    "tags": []
   },
   "source": [
    "We also notice that fare column has a missing value. We will use the mean of the fare for the same Pclass to fill in the missing value."
   ]
  },
  {
   "cell_type": "code",
   "execution_count": 38,
   "id": "2c758b1f",
   "metadata": {
    "execution": {
     "iopub.execute_input": "2023-10-18T21:27:14.414662Z",
     "iopub.status.busy": "2023-10-18T21:27:14.414309Z",
     "iopub.status.idle": "2023-10-18T21:27:14.429987Z",
     "shell.execute_reply": "2023-10-18T21:27:14.428783Z"
    },
    "papermill": {
     "duration": 0.036069,
     "end_time": "2023-10-18T21:27:14.432422",
     "exception": false,
     "start_time": "2023-10-18T21:27:14.396353",
     "status": "completed"
    },
    "tags": []
   },
   "outputs": [
    {
     "name": "stdout",
     "output_type": "stream",
     "text": [
      "<class 'pandas.core.frame.DataFrame'>\n",
      "Index: 418 entries, 892 to 1309\n",
      "Data columns (total 9 columns):\n",
      " #   Column      Non-Null Count  Dtype  \n",
      "---  ------      --------------  -----  \n",
      " 0   Pclass      418 non-null    float64\n",
      " 1   Sex         418 non-null    float64\n",
      " 2   Age         418 non-null    float64\n",
      " 3   SibSp       418 non-null    float64\n",
      " 4   Parch       418 non-null    float64\n",
      " 5   Fare        418 non-null    float64\n",
      " 6   Embarked_C  418 non-null    float64\n",
      " 7   Embarked_Q  418 non-null    float64\n",
      " 8   Embarked_S  418 non-null    float64\n",
      "dtypes: float64(9)\n",
      "memory usage: 32.7 KB\n"
     ]
    }
   ],
   "source": [
    "# Fill missing fare with mean fare for each Pclass\n",
    "pclass_means = test.groupby(test['Pclass']).mean()['Fare']\n",
    "test['Fare'] = test['Fare'].fillna(test['Pclass'].map(pclass_means))\n",
    "\n",
    "test.info()"
   ]
  },
  {
   "cell_type": "code",
   "execution_count": 39,
   "id": "b4efd41f",
   "metadata": {
    "execution": {
     "iopub.execute_input": "2023-10-18T21:27:14.465897Z",
     "iopub.status.busy": "2023-10-18T21:27:14.465356Z",
     "iopub.status.idle": "2023-10-18T21:27:14.486319Z",
     "shell.execute_reply": "2023-10-18T21:27:14.485170Z"
    },
    "papermill": {
     "duration": 0.040517,
     "end_time": "2023-10-18T21:27:14.488691",
     "exception": false,
     "start_time": "2023-10-18T21:27:14.448174",
     "status": "completed"
    },
    "tags": []
   },
   "outputs": [
    {
     "data": {
      "text/html": [
       "<div>\n",
       "<style scoped>\n",
       "    .dataframe tbody tr th:only-of-type {\n",
       "        vertical-align: middle;\n",
       "    }\n",
       "\n",
       "    .dataframe tbody tr th {\n",
       "        vertical-align: top;\n",
       "    }\n",
       "\n",
       "    .dataframe thead th {\n",
       "        text-align: right;\n",
       "    }\n",
       "</style>\n",
       "<table border=\"1\" class=\"dataframe\">\n",
       "  <thead>\n",
       "    <tr style=\"text-align: right;\">\n",
       "      <th></th>\n",
       "      <th>PassengerId</th>\n",
       "      <th>Survived</th>\n",
       "    </tr>\n",
       "  </thead>\n",
       "  <tbody>\n",
       "    <tr>\n",
       "      <th>0</th>\n",
       "      <td>892</td>\n",
       "      <td>0</td>\n",
       "    </tr>\n",
       "    <tr>\n",
       "      <th>1</th>\n",
       "      <td>893</td>\n",
       "      <td>0</td>\n",
       "    </tr>\n",
       "    <tr>\n",
       "      <th>2</th>\n",
       "      <td>894</td>\n",
       "      <td>0</td>\n",
       "    </tr>\n",
       "    <tr>\n",
       "      <th>3</th>\n",
       "      <td>895</td>\n",
       "      <td>0</td>\n",
       "    </tr>\n",
       "    <tr>\n",
       "      <th>4</th>\n",
       "      <td>896</td>\n",
       "      <td>0</td>\n",
       "    </tr>\n",
       "  </tbody>\n",
       "</table>\n",
       "</div>"
      ],
      "text/plain": [
       "   PassengerId  Survived\n",
       "0          892         0\n",
       "1          893         0\n",
       "2          894         0\n",
       "3          895         0\n",
       "4          896         0"
      ]
     },
     "metadata": {},
     "output_type": "display_data"
    }
   ],
   "source": [
    "# Predict survival using the survival model we trained earlier\n",
    "y_pred = survival_model.predict(test)\n",
    "\n",
    "results = pd.DataFrame({'PassengerId': test.index, 'Survived': y_pred})\n",
    "display(results.head())"
   ]
  },
  {
   "cell_type": "code",
   "execution_count": 40,
   "id": "8f863c5c",
   "metadata": {
    "execution": {
     "iopub.execute_input": "2023-10-18T21:27:14.523271Z",
     "iopub.status.busy": "2023-10-18T21:27:14.522860Z",
     "iopub.status.idle": "2023-10-18T21:27:14.530861Z",
     "shell.execute_reply": "2023-10-18T21:27:14.530067Z"
    },
    "papermill": {
     "duration": 0.028009,
     "end_time": "2023-10-18T21:27:14.533122",
     "exception": false,
     "start_time": "2023-10-18T21:27:14.505113",
     "status": "completed"
    },
    "tags": []
   },
   "outputs": [],
   "source": [
    "results.to_csv('/kaggle/working/results.csv', index=False)"
   ]
  },
  {
   "cell_type": "code",
   "execution_count": null,
   "id": "ba600320",
   "metadata": {
    "papermill": {
     "duration": 0.016008,
     "end_time": "2023-10-18T21:27:14.566325",
     "exception": false,
     "start_time": "2023-10-18T21:27:14.550317",
     "status": "completed"
    },
    "tags": []
   },
   "outputs": [],
   "source": []
  }
 ],
 "metadata": {
  "kernelspec": {
   "display_name": "Python 3",
   "language": "python",
   "name": "python3"
  },
  "language_info": {
   "codemirror_mode": {
    "name": "ipython",
    "version": 3
   },
   "file_extension": ".py",
   "mimetype": "text/x-python",
   "name": "python",
   "nbconvert_exporter": "python",
   "pygments_lexer": "ipython3",
   "version": "3.10.12"
  },
  "papermill": {
   "default_parameters": {},
   "duration": 234.551592,
   "end_time": "2023-10-18T21:27:15.305120",
   "environment_variables": {},
   "exception": null,
   "input_path": "__notebook__.ipynb",
   "output_path": "__notebook__.ipynb",
   "parameters": {},
   "start_time": "2023-10-18T21:23:20.753528",
   "version": "2.4.0"
  }
 },
 "nbformat": 4,
 "nbformat_minor": 5
}
